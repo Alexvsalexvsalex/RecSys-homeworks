{
 "cells": [
  {
   "cell_type": "markdown",
   "id": "portuguese-delta",
   "metadata": {
    "pycharm": {
     "name": "#%% md\n"
    }
   },
   "source": [
    "Копируем считывание из условия"
   ]
  },
  {
   "cell_type": "code",
   "execution_count": 1,
   "id": "annual-europe",
   "metadata": {},
   "outputs": [],
   "source": [
    "import datetime\n",
    "import implicit\n",
    "from abc import abstractmethod\n",
    "import pandas as pd\n",
    "import numpy as np\n",
    "import scipy.sparse as sp"
   ]
  },
  {
   "cell_type": "code",
   "execution_count": 2,
   "id": "familiar-timer",
   "metadata": {},
   "outputs": [],
   "source": [
    "from pandas import DataFrame\n",
    "from scipy.special import expit\n",
    "ratings = pd.read_csv('ml-1m/ratings.dat', delimiter='::', header=None, \n",
    "        names=['user_id', 'movie_id', 'rating', 'timestamp'], \n",
    "        usecols=['user_id', 'movie_id', 'rating'], engine='python')"
   ]
  },
  {
   "cell_type": "code",
   "execution_count": 3,
   "id": "eligible-private",
   "metadata": {},
   "outputs": [],
   "source": [
    "movie_info = pd.read_csv('ml-1m/movies.dat', delimiter='::', header=None, \n",
    "        names=['movie_id', 'name', 'category'], engine='python')"
   ]
  },
  {
   "cell_type": "code",
   "execution_count": 4,
   "id": "asian-vienna",
   "metadata": {},
   "outputs": [],
   "source": [
    "implicit_ratings = ratings.loc[(ratings['rating'] >= 4)].reset_index(drop=True)\n",
    "users = implicit_ratings[\"user_id\"]\n",
    "movies = implicit_ratings[\"movie_id\"]\n",
    "user_item = sp.coo_matrix((np.ones_like(users), (users, movies)))\n",
    "user_item_t_csr = user_item.T.tocsr()\n",
    "user_item_csr = user_item.tocsr()"
   ]
  },
  {
   "cell_type": "markdown",
   "id": "shared-actress",
   "metadata": {
    "pycharm": {
     "name": "#%% md\n"
    }
   },
   "source": [
    "Также скопируем вспомогательные функции"
   ]
  },
  {
   "cell_type": "code",
   "execution_count": 5,
   "id": "uniform-variable",
   "metadata": {
    "pycharm": {
     "name": "#%%\n"
    }
   },
   "outputs": [],
   "source": [
    "def format_movie(movie):\n",
    "    return f\"{movie['movie_id'].values[0]}. {movie['name'].values[0]} ({movie['category'].values[0]})\"\n",
    "\n",
    "def get_user_history(user_id, implicit_ratings):\n",
    "    return [format_movie(movie_info[movie_info[\"movie_id\"] == x]) for x in implicit_ratings[implicit_ratings[\"user_id\"] == user_id][\"movie_id\"]]\n",
    "\n",
    "def get_recommendations(user_id, model):\n",
    "    return [format_movie(movie_info[movie_info[\"movie_id\"] == x[0]]) for x in model.recommend(user_id, user_item_csr)]"
   ]
  },
  {
   "cell_type": "markdown",
   "id": "offshore-detector",
   "metadata": {
    "pycharm": {
     "name": "#%% md\n"
    }
   },
   "source": [
    "Крутые модели умеют делать __.fit(...)__, __.recommend(...)__.\n",
    "Естественно хотим также, поэтому придется вспомнить ООП в Python"
   ]
  },
  {
   "cell_type": "code",
   "execution_count": 6,
   "id": "public-target",
   "metadata": {},
   "outputs": [],
   "source": [
    "class AbstractModel:\n",
    "    def __init__(self):\n",
    "        self.user_vectors = None\n",
    "        self.item_vectors = None\n",
    "        self.item_bias = None\n",
    "        self.cnt_rec = 10\n",
    "\n",
    "        self.fitted = False\n",
    "\n",
    "    @abstractmethod\n",
    "    def __fit_impl__(self, **kwargs):\n",
    "        pass\n",
    "\n",
    "    def fit(self, data, **kwargs):\n",
    "        self.fitted = False\n",
    "        self.__fit_impl__(data=data, **kwargs)\n",
    "        self.fitted = True\n",
    "\n",
    "    def recommend(self, id, user_item_csr):\n",
    "        if not self.fitted: raise Exception('Using unfitted model')\n",
    "        similarity = np.dot(self.item_vectors, self.user_vectors[id])\n",
    "        if self.item_bias is not None: similarity += self.item_bias\n",
    "        recommendations = np.flip(similarity.argsort())\n",
    "        formatted_recommendations = np.fromiter((id_rec for id_rec in recommendations if user_item_csr[id, id_rec] == 0), dtype=recommendations.dtype)\n",
    "        return formatted_recommendations[:self.cnt_rec, np.newaxis]"
   ]
  },
  {
   "cell_type": "markdown",
   "id": "acquired-customs",
   "metadata": {},
   "source": [
    "Половина работы сделана, осталось только написать 4 варианта __.\\_\\_fit_impl\\_\\_()__"
   ]
  },
  {
   "cell_type": "markdown",
   "id": "respective-doubt",
   "metadata": {
    "pycharm": {
     "name": "#%% md\n"
    }
   },
   "source": [
    "### Задание 1. Не использую готовые решения, реализовать SVD разложение используя SGD на explicit данных"
   ]
  },
  {
   "cell_type": "code",
   "execution_count": 25,
   "id": "talented-yugoslavia",
   "metadata": {
    "pycharm": {
     "name": "#%%\n"
    }
   },
   "outputs": [],
   "source": [
    "import random\n",
    "\n",
    "class Svd(AbstractModel):\n",
    "    def __fit_impl__(self, data: DataFrame, alpha=1e-2, learning_rate=1e-2, cnt_epoch=100):\n",
    "        cnt_users = data['user_id'].max() + 1\n",
    "        cnt_items = data['movie_id'].max() + 1\n",
    "        cnt_samples = len(data)\n",
    "\n",
    "        limit = 0.05\n",
    "        self.user_vectors = np.random.uniform(high=limit, size=[cnt_users, 128])\n",
    "        self.item_vectors = np.random.uniform(high=limit, size=[cnt_items, 128])\n",
    "\n",
    "        self.user_bias = np.random.uniform(high=limit, size=[cnt_users])\n",
    "        self.item_bias = np.random.uniform(high=limit, size=[cnt_items])\n",
    "\n",
    "        bias = 0\n",
    "\n",
    "        def correct(x, error):\n",
    "            return x - learning_rate * (error + x * alpha)\n",
    "\n",
    "        history: np.ndarray = data.values\n",
    "\n",
    "        for epoch in range(1, cnt_epoch + 1):\n",
    "            errors = []\n",
    "            epoch_start = datetime.datetime.utcnow()\n",
    "            for _ in range(cnt_samples):\n",
    "                sample_ind = random.randint(0, cnt_samples - 1)\n",
    "\n",
    "                user_id = history[sample_ind][0]\n",
    "                movie_id = history[sample_ind][1]\n",
    "\n",
    "                prediction = \\\n",
    "                    np.dot(self.user_vectors[user_id], self.item_vectors[movie_id]) + \\\n",
    "                    self.user_bias[user_id] + self.item_bias[movie_id] + bias\n",
    "                error = prediction - history[sample_ind][2]\n",
    "                errors.append(error ** 2)\n",
    "\n",
    "                saved_user_vector = self.user_vectors[user_id]\n",
    "                self.user_vectors[user_id] = \\\n",
    "                    correct(saved_user_vector, error * self.item_vectors[movie_id])\n",
    "                self.user_bias[user_id] = correct(self.user_bias[user_id], error)\n",
    "                self.item_vectors[movie_id] = \\\n",
    "                    correct(self.item_vectors[movie_id], error * saved_user_vector)\n",
    "                self.item_bias[movie_id] = correct(self.item_bias[movie_id], error)\n",
    "                bias = correct(bias / lr, error)\n",
    "            epoch_time = datetime.datetime.utcnow() - epoch_start\n",
    "            print(f\"Average error in {epoch} epoch is {sum(errors) / len(errors)}. Time = {epoch_time.seconds} s.\")"
   ]
  },
  {
   "cell_type": "markdown",
   "id": "facial-termination",
   "metadata": {
    "pycharm": {
     "name": "#%% md\n"
    }
   },
   "source": [
    "### Задание 2. Не использую готовые решения, реализовать матричное разложение используя ALS на implicit данных"
   ]
  },
  {
   "cell_type": "code",
   "execution_count": 8,
   "id": "sixth-information",
   "metadata": {
    "pycharm": {
     "name": "#%%\n"
    }
   },
   "outputs": [],
   "source": [
    "import tensorflow as tf\n",
    "\n",
    "class Als(AbstractModel):\n",
    "    def __fit_impl__(self, data: sp.csr_matrix, alpha=1e1, cnt_epoch=20):\n",
    "        p = tf.cast(tf.convert_to_tensor(data.toarray()), tf.float32)\n",
    "        p_t = tf.transpose(p)\n",
    "        C = p * alpha + 1.0\n",
    "        C_t = tf.transpose(C)\n",
    "\n",
    "        cnt_users = p.shape[0]\n",
    "        cnt_items = p.shape[1]\n",
    "\n",
    "        limit = 0.125\n",
    "        self.user_vectors = tf.random.uniform(shape=(cnt_users, 64), maxval=limit)\n",
    "        self.item_vectors = tf.random.uniform(shape=(cnt_items, 64), maxval=limit)\n",
    "\n",
    "        diag_matrix = tf.linalg.tensor_diag([0.01] * 64)\n",
    "\n",
    "        def calculate_row(vec, C, p):\n",
    "            return tf.linalg.matvec(\n",
    "                tf.linalg.matmul(\n",
    "                    tf.linalg.inv(\n",
    "                        tf.linalg.matmul(\n",
    "                            tf.transpose(vec) * C,\n",
    "                            vec) + diag_matrix),\n",
    "                    tf.transpose(vec) * C),\n",
    "                p)\n",
    "\n",
    "        for epoch in range(1, cnt_epoch + 1, 2):\n",
    "            epoch_start = datetime.datetime.utcnow()\n",
    "            self.user_vectors = tf.convert_to_tensor(\n",
    "                [calculate_row(self.item_vectors, C[i], p[i]) for i in range(cnt_users)])\n",
    "            if epoch < cnt_epoch:\n",
    "                self.item_vectors = tf.convert_to_tensor(\n",
    "                    [calculate_row(self.user_vectors, C_t[i], p_t[i]) for i in range(cnt_items)])\n",
    "            error = tf.reduce_mean((tf.linalg.matmul(self.user_vectors, tf.transpose(self.item_vectors)) - p) ** 2)\n",
    "            epoch_time = datetime.datetime.utcnow() - epoch_start\n",
    "            print(f\"Error in {epoch}-{epoch + 1} epochs is {error}. Time = {epoch_time.seconds} s.\")"
   ]
  },
  {
   "cell_type": "markdown",
   "id": "dramatic-public",
   "metadata": {
    "pycharm": {
     "name": "#%% md\n"
    }
   },
   "source": [
    "### Задание 3. Не использую готовые решения, реализовать матричное разложение BPR на implicit данных"
   ]
  },
  {
   "cell_type": "code",
   "execution_count": 9,
   "id": "adjustable-dover",
   "metadata": {
    "pycharm": {
     "name": "#%%\n"
    }
   },
   "outputs": [],
   "source": [
    "class Bpr(AbstractModel):\n",
    "    def __fit_impl__(self, data: DataFrame, learning_rate=1e-2, alpha=1e-5, cnt_epoch=30):\n",
    "        cnt_users = data['user_id'].max() + 1\n",
    "        cnt_items = data['movie_id'].max() + 1\n",
    "        cnt_samples = len(data)\n",
    "\n",
    "        limit = 0.125\n",
    "        self.user_vectors = np.random.uniform(high=limit, size=[cnt_users, 128])\n",
    "        self.item_vectors = np.random.uniform(high=limit, size=[cnt_items, 128])\n",
    "\n",
    "        def correct(x, error):\n",
    "            return x - learning_rate * (error + x * alpha)\n",
    "\n",
    "        history: np.ndarray = data.values\n",
    "\n",
    "        for epoch in range(1, cnt_epoch + 1):\n",
    "            epoch_start = datetime.datetime.utcnow()\n",
    "            negative_movies = np.random.randint(low=0, high=cnt_items, size=[cnt_samples])\n",
    "            errors = []\n",
    "\n",
    "            for _ in range(cnt_samples):\n",
    "                sample_ind = random.randint(0, cnt_samples - 1)\n",
    "\n",
    "                user_id = history[sample_ind][0]\n",
    "                movie_id = history[sample_ind][1]\n",
    "                movie_2_id = negative_movies[sample_ind]\n",
    "\n",
    "                difference = self.item_vectors[movie_id] - self.item_vectors[movie_2_id]\n",
    "                user_vector = self.user_vectors[user_id]\n",
    "                error = expit(-np.dot(user_vector, difference))\n",
    "\n",
    "                self.user_vectors[user_id] = correct(self.user_vectors[user_id], -error * difference)\n",
    "                self.item_vectors[movie_id] = correct(self.item_vectors[movie_id], -error * user_vector)\n",
    "                self.item_vectors[movie_2_id] = correct(self.item_vectors[movie_2_id], error * user_vector)\n",
    "                errors.append(np.log(error))\n",
    "            epoch_time = datetime.datetime.utcnow() - epoch_start\n",
    "            print(f\"Average error in {epoch} epoch is {sum(errors) / len(errors)}. Time = {epoch_time.seconds} s.\")"
   ]
  },
  {
   "cell_type": "markdown",
   "id": "aboriginal-orleans",
   "metadata": {},
   "source": [
    "Всё, теперь посмотрим на рекомендации библиотечной модели и наших трёх."
   ]
  },
  {
   "cell_type": "code",
   "execution_count": 10,
   "id": "bright-constraint",
   "metadata": {
    "pycharm": {
     "name": "#%%\n"
    }
   },
   "outputs": [
    {
     "name": "stderr",
     "output_type": "stream",
     "text": [
      "WARNING:root:OpenBLAS detected. Its highly recommend to set the environment variable 'export OPENBLAS_NUM_THREADS=1' to disable its internal multithreading\n"
     ]
    },
    {
     "data": {
      "application/vnd.jupyter.widget-view+json": {
       "model_id": "161ab9b8346c4ae79fd0dc853761476a",
       "version_major": 2,
       "version_minor": 0
      },
      "text/plain": [
       "  0%|          | 0/100 [00:00<?, ?it/s]"
      ]
     },
     "metadata": {},
     "output_type": "display_data"
    }
   ],
   "source": [
    "library_model = implicit.als.AlternatingLeastSquares(factors=64, iterations=100, calculate_training_loss=True)\n",
    "library_model.fit(user_item_t_csr)"
   ]
  },
  {
   "cell_type": "code",
   "execution_count": 20,
   "id": "intellectual-basic",
   "metadata": {
    "pycharm": {
     "name": "#%%\n"
    }
   },
   "outputs": [
    {
     "name": "stdout",
     "output_type": "stream",
     "text": [
      "Average error in 1 epoch is 0.8816518846882108. Time = 31 s.\n",
      "Average error in 2 epoch is 0.8183260308005164. Time = 33 s.\n",
      "Average error in 3 epoch is 0.7953899629327091. Time = 30 s.\n",
      "Average error in 4 epoch is 0.761448980546643. Time = 31 s.\n",
      "Average error in 5 epoch is 0.708861354580911. Time = 32 s.\n",
      "Average error in 6 epoch is 0.6517718018611031. Time = 31 s.\n",
      "Average error in 7 epoch is 0.5935746505184334. Time = 30 s.\n",
      "Average error in 8 epoch is 0.539747490109017. Time = 30 s.\n",
      "Average error in 9 epoch is 0.4878275973437199. Time = 31 s.\n",
      "Average error in 10 epoch is 0.44206631444871136. Time = 32 s.\n",
      "Average error in 11 epoch is 0.40307848230266935. Time = 31 s.\n",
      "Average error in 12 epoch is 0.36821623639666445. Time = 30 s.\n",
      "Average error in 13 epoch is 0.3398607311961003. Time = 30 s.\n",
      "Average error in 14 epoch is 0.3155433738192924. Time = 30 s.\n",
      "Average error in 15 epoch is 0.2950369660394059. Time = 30 s.\n",
      "Average error in 16 epoch is 0.27707626433399285. Time = 30 s.\n",
      "Average error in 17 epoch is 0.2624024484186213. Time = 31 s.\n",
      "Average error in 18 epoch is 0.24822712375068237. Time = 31 s.\n",
      "Average error in 19 epoch is 0.2365953931322057. Time = 30 s.\n",
      "Average error in 20 epoch is 0.22635935680736813. Time = 32 s.\n",
      "Average error in 21 epoch is 0.21716686777623606. Time = 31 s.\n",
      "Average error in 22 epoch is 0.20954674416147798. Time = 31 s.\n",
      "Average error in 23 epoch is 0.20263694434471194. Time = 31 s.\n",
      "Average error in 24 epoch is 0.1960816657185385. Time = 31 s.\n",
      "Average error in 25 epoch is 0.18985166771596404. Time = 31 s.\n",
      "Average error in 26 epoch is 0.18479808078418133. Time = 31 s.\n",
      "Average error in 27 epoch is 0.17961001467760462. Time = 31 s.\n",
      "Average error in 28 epoch is 0.17559424383338618. Time = 31 s.\n",
      "Average error in 29 epoch is 0.17183270412025375. Time = 31 s.\n",
      "Average error in 30 epoch is 0.16857684229539985. Time = 32 s.\n",
      "Average error in 31 epoch is 0.16535291196309013. Time = 31 s.\n",
      "Average error in 32 epoch is 0.16233584476484872. Time = 32 s.\n",
      "Average error in 33 epoch is 0.15953693901778365. Time = 31 s.\n",
      "Average error in 34 epoch is 0.15686772218338046. Time = 33 s.\n",
      "Average error in 35 epoch is 0.15428670184383303. Time = 33 s.\n",
      "Average error in 36 epoch is 0.15260629979506055. Time = 32 s.\n",
      "Average error in 37 epoch is 0.1501001614038438. Time = 30 s.\n",
      "Average error in 38 epoch is 0.14825944803910795. Time = 31 s.\n",
      "Average error in 39 epoch is 0.14642404057211783. Time = 32 s.\n",
      "Average error in 40 epoch is 0.14472402816233193. Time = 32 s.\n",
      "Average error in 41 epoch is 0.14275177405796216. Time = 33 s.\n",
      "Average error in 42 epoch is 0.14207315175137036. Time = 32 s.\n",
      "Average error in 43 epoch is 0.14042997500983387. Time = 32 s.\n",
      "Average error in 44 epoch is 0.1389282144810904. Time = 30 s.\n",
      "Average error in 45 epoch is 0.13742268307254152. Time = 30 s.\n",
      "Average error in 46 epoch is 0.1365645160723788. Time = 30 s.\n",
      "Average error in 47 epoch is 0.13540738890258122. Time = 31 s.\n",
      "Average error in 48 epoch is 0.13381308828117477. Time = 30 s.\n",
      "Average error in 49 epoch is 0.13288901743702417. Time = 31 s.\n",
      "Average error in 50 epoch is 0.1324153486581545. Time = 28 s.\n",
      "Average error in 51 epoch is 0.13105392091164028. Time = 29 s.\n",
      "Average error in 52 epoch is 0.13018901711930309. Time = 29 s.\n",
      "Average error in 53 epoch is 0.12931778939542157. Time = 28 s.\n",
      "Average error in 54 epoch is 0.12872460631898142. Time = 28 s.\n",
      "Average error in 55 epoch is 0.12753075141531559. Time = 28 s.\n",
      "Average error in 56 epoch is 0.12648419085888063. Time = 29 s.\n",
      "Average error in 57 epoch is 0.12687584992510395. Time = 27 s.\n",
      "Average error in 58 epoch is 0.1260050965420158. Time = 29 s.\n",
      "Average error in 59 epoch is 0.12491908950301199. Time = 28 s.\n",
      "Average error in 60 epoch is 0.12470638488287372. Time = 28 s.\n",
      "Average error in 61 epoch is 0.12374313010195896. Time = 28 s.\n",
      "Average error in 62 epoch is 0.12368361534103305. Time = 30 s.\n",
      "Average error in 63 epoch is 0.12259257867994935. Time = 31 s.\n",
      "Average error in 64 epoch is 0.12226460372782397. Time = 29 s.\n",
      "Average error in 65 epoch is 0.12140365521356206. Time = 28 s.\n",
      "Average error in 66 epoch is 0.12063110151606697. Time = 28 s.\n",
      "Average error in 67 epoch is 0.11999215038414253. Time = 28 s.\n",
      "Average error in 68 epoch is 0.11993903125237675. Time = 31 s.\n",
      "Average error in 69 epoch is 0.11948773394273761. Time = 31 s.\n",
      "Average error in 70 epoch is 0.11919536798683232. Time = 31 s.\n",
      "Average error in 71 epoch is 0.11845302920675164. Time = 32 s.\n",
      "Average error in 72 epoch is 0.1185929416016526. Time = 31 s.\n",
      "Average error in 73 epoch is 0.11795233160549876. Time = 31 s.\n",
      "Average error in 74 epoch is 0.11753104974838297. Time = 30 s.\n",
      "Average error in 75 epoch is 0.11672812264676087. Time = 37 s.\n",
      "Average error in 76 epoch is 0.116549091402751. Time = 39 s.\n",
      "Average error in 77 epoch is 0.11616161877482503. Time = 41 s.\n",
      "Average error in 78 epoch is 0.11568028705144283. Time = 41 s.\n",
      "Average error in 79 epoch is 0.1155747825128466. Time = 40 s.\n",
      "Average error in 80 epoch is 0.11500472933139816. Time = 38 s.\n"
     ]
    }
   ],
   "source": [
    "svd_model = Svd()\n",
    "svd_model.fit(data=ratings)"
   ]
  },
  {
   "cell_type": "code",
   "execution_count": 12,
   "id": "defensive-student",
   "metadata": {
    "pycharm": {
     "name": "#%%\n"
    }
   },
   "outputs": [
    {
     "name": "stdout",
     "output_type": "stream",
     "text": [
      "Error in 1-2 epochs is 0.039607688784599304. Time = 37 s.\n",
      "Error in 3-4 epochs is 0.03524471074342728. Time = 40 s.\n",
      "Error in 5-6 epochs is 0.03401840850710869. Time = 39 s.\n",
      "Error in 7-8 epochs is 0.03355080261826515. Time = 37 s.\n",
      "Error in 9-10 epochs is 0.033316586166620255. Time = 39 s.\n",
      "Error in 11-12 epochs is 0.0331806018948555. Time = 26 s.\n",
      "Error in 13-14 epochs is 0.033094488084316254. Time = 25 s.\n",
      "Error in 15-16 epochs is 0.033036939799785614. Time = 25 s.\n",
      "Error in 17-18 epochs is 0.03299698233604431. Time = 25 s.\n",
      "Error in 19-20 epochs is 0.03296832740306854. Time = 25 s.\n"
     ]
    }
   ],
   "source": [
    "als_model = Als()\n",
    "als_model.fit(data=user_item_csr)"
   ]
  },
  {
   "cell_type": "code",
   "execution_count": 13,
   "id": "familiar-cooper",
   "metadata": {
    "pycharm": {
     "name": "#%%\n"
    }
   },
   "outputs": [
    {
     "name": "stdout",
     "output_type": "stream",
     "text": [
      "Average error in 1 epoch is -1.0312266369229757. Time = 21 s.\n",
      "Average error in 2 epoch is -1.6192148844821608. Time = 21 s.\n",
      "Average error in 3 epoch is -1.9598482667980115. Time = 20 s.\n",
      "Average error in 4 epoch is -2.15682116236131. Time = 20 s.\n",
      "Average error in 5 epoch is -2.297791279576619. Time = 20 s.\n",
      "Average error in 6 epoch is -2.403111138523221. Time = 20 s.\n",
      "Average error in 7 epoch is -2.474821533008964. Time = 21 s.\n",
      "Average error in 8 epoch is -2.5393711719903376. Time = 23 s.\n",
      "Average error in 9 epoch is -2.596630835248374. Time = 23 s.\n",
      "Average error in 10 epoch is -2.643808469073257. Time = 23 s.\n",
      "Average error in 11 epoch is -2.6815716853013414. Time = 24 s.\n",
      "Average error in 12 epoch is -2.7307835878223488. Time = 23 s.\n",
      "Average error in 13 epoch is -2.7710455743282276. Time = 23 s.\n",
      "Average error in 14 epoch is -2.8076897084512638. Time = 26 s.\n",
      "Average error in 15 epoch is -2.841956319388056. Time = 24 s.\n",
      "Average error in 16 epoch is -2.889094921874653. Time = 23 s.\n",
      "Average error in 17 epoch is -2.934823396016862. Time = 24 s.\n",
      "Average error in 18 epoch is -2.978405232575362. Time = 24 s.\n",
      "Average error in 19 epoch is -3.0301798189469764. Time = 23 s.\n",
      "Average error in 20 epoch is -3.075944460880491. Time = 24 s.\n",
      "Average error in 21 epoch is -3.114444345075016. Time = 24 s.\n",
      "Average error in 22 epoch is -3.171831040917312. Time = 25 s.\n",
      "Average error in 23 epoch is -3.2101243092257. Time = 26 s.\n",
      "Average error in 24 epoch is -3.2423972141252317. Time = 24 s.\n",
      "Average error in 25 epoch is -3.30124583493391. Time = 25 s.\n",
      "Average error in 26 epoch is -3.364302088739738. Time = 25 s.\n",
      "Average error in 27 epoch is -3.3934311415474117. Time = 24 s.\n",
      "Average error in 28 epoch is -3.4347773085989908. Time = 23 s.\n",
      "Average error in 29 epoch is -3.48297596251278. Time = 23 s.\n",
      "Average error in 30 epoch is -3.5274405056281832. Time = 24 s.\n"
     ]
    }
   ],
   "source": [
    "bpr_model = Bpr()\n",
    "bpr_model.fit(data=implicit_ratings)"
   ]
  },
  {
   "cell_type": "markdown",
   "id": "reserved-newcastle",
   "metadata": {
    "pycharm": {
     "name": "#%% md\n"
    }
   },
   "source": [
    "Взглянем на историю пользователя с ID = 4, а затем проверим рекоммендации"
   ]
  },
  {
   "cell_type": "code",
   "execution_count": 14,
   "id": "retired-infection",
   "metadata": {
    "pycharm": {
     "name": "#%%\n"
    }
   },
   "outputs": [
    {
     "data": {
      "text/plain": [
       "['3468. Hustler, The (1961) (Drama)',\n",
       " '2951. Fistful of Dollars, A (1964) (Action|Western)',\n",
       " '1214. Alien (1979) (Action|Horror|Sci-Fi|Thriller)',\n",
       " '1036. Die Hard (1988) (Action|Thriller)',\n",
       " '260. Star Wars: Episode IV - A New Hope (1977) (Action|Adventure|Fantasy|Sci-Fi)',\n",
       " '2028. Saving Private Ryan (1998) (Action|Drama|War)',\n",
       " '480. Jurassic Park (1993) (Action|Adventure|Sci-Fi)',\n",
       " '1198. Raiders of the Lost Ark (1981) (Action|Adventure)',\n",
       " '1954. Rocky (1976) (Action|Drama)',\n",
       " \"1097. E.T. the Extra-Terrestrial (1982) (Children's|Drama|Fantasy|Sci-Fi)\",\n",
       " '3418. Thelma & Louise (1991) (Action|Drama)',\n",
       " '3702. Mad Max (1979) (Action|Sci-Fi)',\n",
       " '2366. King Kong (1933) (Action|Adventure|Horror)',\n",
       " '1387. Jaws (1975) (Action|Horror)',\n",
       " '1201. Good, The Bad and The Ugly, The (1966) (Action|Western)',\n",
       " '2692. Run Lola Run (Lola rennt) (1998) (Action|Crime|Romance)',\n",
       " '2947. Goldfinger (1964) (Action)',\n",
       " '1240. Terminator, The (1984) (Action|Sci-Fi|Thriller)']"
      ]
     },
     "execution_count": 14,
     "metadata": {},
     "output_type": "execute_result"
    }
   ],
   "source": [
    "get_user_history(4, implicit_ratings)"
   ]
  },
  {
   "cell_type": "markdown",
   "id": "seeing-sandwich",
   "metadata": {
    "pycharm": {
     "name": "#%% md\n"
    }
   },
   "source": [
    "Посмотрим на все рекомендации"
   ]
  },
  {
   "cell_type": "code",
   "execution_count": 21,
   "id": "opposite-reference",
   "metadata": {
    "pycharm": {
     "name": "#%%\n"
    }
   },
   "outputs": [],
   "source": [
    "pd.set_option('display.max_colwidth', None)\n",
    "\n",
    "def construct_recommendations(id):\n",
    "    return pd.DataFrame(list(\n",
    "        zip(get_recommendations(id, library_model),\n",
    "        get_recommendations(id, svd_model),\n",
    "        get_recommendations(id, als_model),\n",
    "        get_recommendations(id, bpr_model))),\n",
    "             columns=['Library ALS', 'SVD', 'ALS', 'BPR']).head(10)"
   ]
  },
  {
   "cell_type": "code",
   "execution_count": 22,
   "id": "civil-symbol",
   "metadata": {
    "pycharm": {
     "name": "#%%\n"
    }
   },
   "outputs": [
    {
     "data": {
      "text/html": [
       "<div>\n",
       "<style scoped>\n",
       "    .dataframe tbody tr th:only-of-type {\n",
       "        vertical-align: middle;\n",
       "    }\n",
       "\n",
       "    .dataframe tbody tr th {\n",
       "        vertical-align: top;\n",
       "    }\n",
       "\n",
       "    .dataframe thead th {\n",
       "        text-align: right;\n",
       "    }\n",
       "</style>\n",
       "<table border=\"1\" class=\"dataframe\">\n",
       "  <thead>\n",
       "    <tr style=\"text-align: right;\">\n",
       "      <th></th>\n",
       "      <th>Library ALS</th>\n",
       "      <th>SVD</th>\n",
       "      <th>ALS</th>\n",
       "      <th>BPR</th>\n",
       "    </tr>\n",
       "  </thead>\n",
       "  <tbody>\n",
       "    <tr>\n",
       "      <th>0</th>\n",
       "      <td>589. Terminator 2: Judgment Day (1991) (Action|Sci-Fi|Thriller)</td>\n",
       "      <td>912. Casablanca (1942) (Drama|Romance|War)</td>\n",
       "      <td>589. Terminator 2: Judgment Day (1991) (Action|Sci-Fi|Thriller)</td>\n",
       "      <td>1210. Star Wars: Episode VI - Return of the Jedi (1983) (Action|Adventure|Romance|Sci-Fi|War)</td>\n",
       "    </tr>\n",
       "    <tr>\n",
       "      <th>1</th>\n",
       "      <td>1291. Indiana Jones and the Last Crusade (1989) (Action|Adventure)</td>\n",
       "      <td>3469. Inherit the Wind (1960) (Drama)</td>\n",
       "      <td>457. Fugitive, The (1993) (Action|Thriller)</td>\n",
       "      <td>2858. American Beauty (1999) (Comedy|Drama)</td>\n",
       "    </tr>\n",
       "    <tr>\n",
       "      <th>2</th>\n",
       "      <td>1304. Butch Cassidy and the Sundance Kid (1969) (Action|Comedy|Western)</td>\n",
       "      <td>969. African Queen, The (1951) (Action|Adventure|Romance|War)</td>\n",
       "      <td>2571. Matrix, The (1999) (Action|Sci-Fi|Thriller)</td>\n",
       "      <td>318. Shawshank Redemption, The (1994) (Drama)</td>\n",
       "    </tr>\n",
       "    <tr>\n",
       "      <th>3</th>\n",
       "      <td>1200. Aliens (1986) (Action|Sci-Fi|Thriller|War)</td>\n",
       "      <td>1193. One Flew Over the Cuckoo's Nest (1975) (Drama)</td>\n",
       "      <td>1196. Star Wars: Episode V - The Empire Strikes Back (1980) (Action|Adventure|Drama|Sci-Fi|War)</td>\n",
       "      <td>1196. Star Wars: Episode V - The Empire Strikes Back (1980) (Action|Adventure|Drama|Sci-Fi|War)</td>\n",
       "    </tr>\n",
       "    <tr>\n",
       "      <th>4</th>\n",
       "      <td>1196. Star Wars: Episode V - The Empire Strikes Back (1980) (Action|Adventure|Drama|Sci-Fi|War)</td>\n",
       "      <td>1204. Lawrence of Arabia (1962) (Adventure|War)</td>\n",
       "      <td>1200. Aliens (1986) (Action|Sci-Fi|Thriller|War)</td>\n",
       "      <td>1270. Back to the Future (1985) (Comedy|Sci-Fi)</td>\n",
       "    </tr>\n",
       "    <tr>\n",
       "      <th>5</th>\n",
       "      <td>2571. Matrix, The (1999) (Action|Sci-Fi|Thriller)</td>\n",
       "      <td>858. Godfather, The (1972) (Action|Crime|Drama)</td>\n",
       "      <td>110. Braveheart (1995) (Action|Drama|War)</td>\n",
       "      <td>608. Fargo (1996) (Crime|Drama|Thriller)</td>\n",
       "    </tr>\n",
       "    <tr>\n",
       "      <th>6</th>\n",
       "      <td>1197. Princess Bride, The (1987) (Action|Adventure|Comedy|Romance)</td>\n",
       "      <td>3435. Double Indemnity (1944) (Crime|Film-Noir)</td>\n",
       "      <td>1610. Hunt for Red October, The (1990) (Action|Thriller)</td>\n",
       "      <td>2571. Matrix, The (1999) (Action|Sci-Fi|Thriller)</td>\n",
       "    </tr>\n",
       "    <tr>\n",
       "      <th>7</th>\n",
       "      <td>1953. French Connection, The (1971) (Action|Crime|Drama|Thriller)</td>\n",
       "      <td>318. Shawshank Redemption, The (1994) (Drama)</td>\n",
       "      <td>1291. Indiana Jones and the Last Crusade (1989) (Action|Adventure)</td>\n",
       "      <td>296. Pulp Fiction (1994) (Crime|Drama)</td>\n",
       "    </tr>\n",
       "    <tr>\n",
       "      <th>8</th>\n",
       "      <td>1961. Rain Man (1988) (Drama)</td>\n",
       "      <td>1234. Sting, The (1973) (Comedy|Crime)</td>\n",
       "      <td>3703. Mad Max 2 (a.k.a. The Road Warrior) (1981) (Action|Sci-Fi)</td>\n",
       "      <td>2762. Sixth Sense, The (1999) (Thriller)</td>\n",
       "    </tr>\n",
       "    <tr>\n",
       "      <th>9</th>\n",
       "      <td>3527. Predator (1987) (Action|Sci-Fi|Thriller)</td>\n",
       "      <td>3089. Bicycle Thief, The (Ladri di biciclette) (1948) (Drama)</td>\n",
       "      <td>1210. Star Wars: Episode VI - Return of the Jedi (1983) (Action|Adventure|Romance|Sci-Fi|War)</td>\n",
       "      <td>858. Godfather, The (1972) (Action|Crime|Drama)</td>\n",
       "    </tr>\n",
       "  </tbody>\n",
       "</table>\n",
       "</div>"
      ],
      "text/plain": [
       "                                                                                       Library ALS  \\\n",
       "0                                  589. Terminator 2: Judgment Day (1991) (Action|Sci-Fi|Thriller)   \n",
       "1                               1291. Indiana Jones and the Last Crusade (1989) (Action|Adventure)   \n",
       "2                          1304. Butch Cassidy and the Sundance Kid (1969) (Action|Comedy|Western)   \n",
       "3                                                 1200. Aliens (1986) (Action|Sci-Fi|Thriller|War)   \n",
       "4  1196. Star Wars: Episode V - The Empire Strikes Back (1980) (Action|Adventure|Drama|Sci-Fi|War)   \n",
       "5                                                2571. Matrix, The (1999) (Action|Sci-Fi|Thriller)   \n",
       "6                               1197. Princess Bride, The (1987) (Action|Adventure|Comedy|Romance)   \n",
       "7                                1953. French Connection, The (1971) (Action|Crime|Drama|Thriller)   \n",
       "8                                                                    1961. Rain Man (1988) (Drama)   \n",
       "9                                                   3527. Predator (1987) (Action|Sci-Fi|Thriller)   \n",
       "\n",
       "                                                             SVD  \\\n",
       "0                     912. Casablanca (1942) (Drama|Romance|War)   \n",
       "1                          3469. Inherit the Wind (1960) (Drama)   \n",
       "2  969. African Queen, The (1951) (Action|Adventure|Romance|War)   \n",
       "3           1193. One Flew Over the Cuckoo's Nest (1975) (Drama)   \n",
       "4                1204. Lawrence of Arabia (1962) (Adventure|War)   \n",
       "5                858. Godfather, The (1972) (Action|Crime|Drama)   \n",
       "6                3435. Double Indemnity (1944) (Crime|Film-Noir)   \n",
       "7                  318. Shawshank Redemption, The (1994) (Drama)   \n",
       "8                         1234. Sting, The (1973) (Comedy|Crime)   \n",
       "9  3089. Bicycle Thief, The (Ladri di biciclette) (1948) (Drama)   \n",
       "\n",
       "                                                                                               ALS  \\\n",
       "0                                  589. Terminator 2: Judgment Day (1991) (Action|Sci-Fi|Thriller)   \n",
       "1                                                      457. Fugitive, The (1993) (Action|Thriller)   \n",
       "2                                                2571. Matrix, The (1999) (Action|Sci-Fi|Thriller)   \n",
       "3  1196. Star Wars: Episode V - The Empire Strikes Back (1980) (Action|Adventure|Drama|Sci-Fi|War)   \n",
       "4                                                 1200. Aliens (1986) (Action|Sci-Fi|Thriller|War)   \n",
       "5                                                        110. Braveheart (1995) (Action|Drama|War)   \n",
       "6                                         1610. Hunt for Red October, The (1990) (Action|Thriller)   \n",
       "7                               1291. Indiana Jones and the Last Crusade (1989) (Action|Adventure)   \n",
       "8                                 3703. Mad Max 2 (a.k.a. The Road Warrior) (1981) (Action|Sci-Fi)   \n",
       "9    1210. Star Wars: Episode VI - Return of the Jedi (1983) (Action|Adventure|Romance|Sci-Fi|War)   \n",
       "\n",
       "                                                                                               BPR  \n",
       "0    1210. Star Wars: Episode VI - Return of the Jedi (1983) (Action|Adventure|Romance|Sci-Fi|War)  \n",
       "1                                                      2858. American Beauty (1999) (Comedy|Drama)  \n",
       "2                                                    318. Shawshank Redemption, The (1994) (Drama)  \n",
       "3  1196. Star Wars: Episode V - The Empire Strikes Back (1980) (Action|Adventure|Drama|Sci-Fi|War)  \n",
       "4                                                  1270. Back to the Future (1985) (Comedy|Sci-Fi)  \n",
       "5                                                         608. Fargo (1996) (Crime|Drama|Thriller)  \n",
       "6                                                2571. Matrix, The (1999) (Action|Sci-Fi|Thriller)  \n",
       "7                                                           296. Pulp Fiction (1994) (Crime|Drama)  \n",
       "8                                                         2762. Sixth Sense, The (1999) (Thriller)  \n",
       "9                                                  858. Godfather, The (1972) (Action|Crime|Drama)  "
      ]
     },
     "execution_count": 22,
     "metadata": {},
     "output_type": "execute_result"
    }
   ],
   "source": [
    "construct_recommendations(4)"
   ]
  },
  {
   "cell_type": "markdown",
   "id": "laughing-panama",
   "metadata": {},
   "source": [
    "Аналогично для пользователя с ID = 7"
   ]
  },
  {
   "cell_type": "code",
   "execution_count": 23,
   "id": "automotive-number",
   "metadata": {
    "pycharm": {
     "name": "#%%\n"
    }
   },
   "outputs": [
    {
     "data": {
      "text/plain": [
       "['648. Mission: Impossible (1996) (Action|Adventure|Mystery)',\n",
       " '861. Supercop (1992) (Action|Thriller)',\n",
       " '2916. Total Recall (1990) (Action|Adventure|Sci-Fi|Thriller)',\n",
       " '1610. Hunt for Red October, The (1990) (Action|Thriller)',\n",
       " '589. Terminator 2: Judgment Day (1991) (Action|Sci-Fi|Thriller)',\n",
       " '6. Heat (1995) (Action|Crime|Thriller)',\n",
       " '442. Demolition Man (1993) (Action|Sci-Fi)',\n",
       " '733. Rock, The (1996) (Action|Adventure|Thriller)',\n",
       " '2353. Enemy of the State (1998) (Action|Thriller)',\n",
       " '1196. Star Wars: Episode V - The Empire Strikes Back (1980) (Action|Adventure|Drama|Sci-Fi|War)',\n",
       " '2571. Matrix, The (1999) (Action|Sci-Fi|Thriller)',\n",
       " '380. True Lies (1994) (Action|Adventure|Comedy|Romance)',\n",
       " '1997. Exorcist, The (1973) (Horror)',\n",
       " '1270. Back to the Future (1985) (Comedy|Sci-Fi)',\n",
       " '457. Fugitive, The (1993) (Action|Thriller)',\n",
       " '1573. Face/Off (1997) (Action|Sci-Fi|Thriller)',\n",
       " '3753. Patriot, The (2000) (Action|Drama|War)',\n",
       " '474. In the Line of Fire (1993) (Action|Thriller)',\n",
       " '1722. Tomorrow Never Dies (1997) (Action|Romance|Thriller)',\n",
       " '3256. Patriot Games (1992) (Action|Thriller)',\n",
       " '1580. Men in Black (1997) (Action|Adventure|Comedy|Sci-Fi)',\n",
       " '110. Braveheart (1995) (Action|Drama|War)',\n",
       " '1221. Godfather: Part II, The (1974) (Action|Crime|Drama)',\n",
       " '2028. Saving Private Ryan (1998) (Action|Drama|War)',\n",
       " '480. Jurassic Park (1993) (Action|Adventure|Sci-Fi)',\n",
       " '349. Clear and Present Danger (1994) (Action|Adventure|Thriller)']"
      ]
     },
     "execution_count": 23,
     "metadata": {},
     "output_type": "execute_result"
    }
   ],
   "source": [
    "get_user_history(7, implicit_ratings)"
   ]
  },
  {
   "cell_type": "code",
   "execution_count": 24,
   "id": "swiss-sweet",
   "metadata": {
    "pycharm": {
     "name": "#%%\n"
    }
   },
   "outputs": [
    {
     "data": {
      "text/html": [
       "<div>\n",
       "<style scoped>\n",
       "    .dataframe tbody tr th:only-of-type {\n",
       "        vertical-align: middle;\n",
       "    }\n",
       "\n",
       "    .dataframe tbody tr th {\n",
       "        vertical-align: top;\n",
       "    }\n",
       "\n",
       "    .dataframe thead th {\n",
       "        text-align: right;\n",
       "    }\n",
       "</style>\n",
       "<table border=\"1\" class=\"dataframe\">\n",
       "  <thead>\n",
       "    <tr style=\"text-align: right;\">\n",
       "      <th></th>\n",
       "      <th>Library ALS</th>\n",
       "      <th>SVD</th>\n",
       "      <th>ALS</th>\n",
       "      <th>BPR</th>\n",
       "    </tr>\n",
       "  </thead>\n",
       "  <tbody>\n",
       "    <tr>\n",
       "      <th>0</th>\n",
       "      <td>377. Speed (1994) (Action|Romance|Thriller)</td>\n",
       "      <td>1147. When We Were Kings (1996) (Documentary)</td>\n",
       "      <td>377. Speed (1994) (Action|Romance|Thriller)</td>\n",
       "      <td>1210. Star Wars: Episode VI - Return of the Jedi (1983) (Action|Adventure|Romance|Sci-Fi|War)</td>\n",
       "    </tr>\n",
       "    <tr>\n",
       "      <th>1</th>\n",
       "      <td>1608. Air Force One (1997) (Action|Thriller)</td>\n",
       "      <td>1272. Patton (1970) (Drama|War)</td>\n",
       "      <td>1370. Die Hard 2 (1990) (Action|Thriller)</td>\n",
       "      <td>1198. Raiders of the Lost Ark (1981) (Action|Adventure)</td>\n",
       "    </tr>\n",
       "    <tr>\n",
       "      <th>2</th>\n",
       "      <td>1370. Die Hard 2 (1990) (Action|Thriller)</td>\n",
       "      <td>3338. For All Mankind (1989) (Documentary)</td>\n",
       "      <td>260. Star Wars: Episode IV - A New Hope (1977) (Action|Adventure|Fantasy|Sci-Fi)</td>\n",
       "      <td>2858. American Beauty (1999) (Comedy|Drama)</td>\n",
       "    </tr>\n",
       "    <tr>\n",
       "      <th>3</th>\n",
       "      <td>1210. Star Wars: Episode VI - Return of the Jedi (1983) (Action|Adventure|Romance|Sci-Fi|War)</td>\n",
       "      <td>3634. Seven Days in May (1964) (Thriller)</td>\n",
       "      <td>1214. Alien (1979) (Action|Horror|Sci-Fi|Thriller)</td>\n",
       "      <td>260. Star Wars: Episode IV - A New Hope (1977) (Action|Adventure|Fantasy|Sci-Fi)</td>\n",
       "    </tr>\n",
       "    <tr>\n",
       "      <th>4</th>\n",
       "      <td>858. Godfather, The (1972) (Action|Crime|Drama)</td>\n",
       "      <td>3342. Birdy (1984) (Drama|War)</td>\n",
       "      <td>2058. Negotiator, The (1998) (Action|Thriller)</td>\n",
       "      <td>2762. Sixth Sense, The (1999) (Thriller)</td>\n",
       "    </tr>\n",
       "    <tr>\n",
       "      <th>5</th>\n",
       "      <td>780. Independence Day (ID4) (1996) (Action|Sci-Fi|War)</td>\n",
       "      <td>1203. 12 Angry Men (1957) (Drama)</td>\n",
       "      <td>2628. Star Wars: Episode I - The Phantom Menace (1999) (Action|Adventure|Fantasy|Sci-Fi)</td>\n",
       "      <td>318. Shawshank Redemption, The (1994) (Drama)</td>\n",
       "    </tr>\n",
       "    <tr>\n",
       "      <th>6</th>\n",
       "      <td>260. Star Wars: Episode IV - A New Hope (1977) (Action|Adventure|Fantasy|Sci-Fi)</td>\n",
       "      <td>1234. Sting, The (1973) (Comedy|Crime)</td>\n",
       "      <td>3578. Gladiator (2000) (Action|Drama)</td>\n",
       "      <td>593. Silence of the Lambs, The (1991) (Drama|Thriller)</td>\n",
       "    </tr>\n",
       "    <tr>\n",
       "      <th>7</th>\n",
       "      <td>2058. Negotiator, The (1998) (Action|Thriller)</td>\n",
       "      <td>2183. Man Who Knew Too Much, The (1956) (Thriller)</td>\n",
       "      <td>1527. Fifth Element, The (1997) (Action|Sci-Fi)</td>\n",
       "      <td>356. Forrest Gump (1994) (Comedy|Romance|War)</td>\n",
       "    </tr>\n",
       "    <tr>\n",
       "      <th>8</th>\n",
       "      <td>3578. Gladiator (2000) (Action|Drama)</td>\n",
       "      <td>3200. Last Detail, The (1973) (Comedy|Drama)</td>\n",
       "      <td>1240. Terminator, The (1984) (Action|Sci-Fi|Thriller)</td>\n",
       "      <td>296. Pulp Fiction (1994) (Crime|Drama)</td>\n",
       "    </tr>\n",
       "    <tr>\n",
       "      <th>9</th>\n",
       "      <td>2763. Thomas Crown Affair, The (1999) (Action|Thriller)</td>\n",
       "      <td>1276. Cool Hand Luke (1967) (Comedy|Drama)</td>\n",
       "      <td>2763. Thomas Crown Affair, The (1999) (Action|Thriller)</td>\n",
       "      <td>3578. Gladiator (2000) (Action|Drama)</td>\n",
       "    </tr>\n",
       "  </tbody>\n",
       "</table>\n",
       "</div>"
      ],
      "text/plain": [
       "                                                                                     Library ALS  \\\n",
       "0                                                    377. Speed (1994) (Action|Romance|Thriller)   \n",
       "1                                                   1608. Air Force One (1997) (Action|Thriller)   \n",
       "2                                                      1370. Die Hard 2 (1990) (Action|Thriller)   \n",
       "3  1210. Star Wars: Episode VI - Return of the Jedi (1983) (Action|Adventure|Romance|Sci-Fi|War)   \n",
       "4                                                858. Godfather, The (1972) (Action|Crime|Drama)   \n",
       "5                                         780. Independence Day (ID4) (1996) (Action|Sci-Fi|War)   \n",
       "6               260. Star Wars: Episode IV - A New Hope (1977) (Action|Adventure|Fantasy|Sci-Fi)   \n",
       "7                                                 2058. Negotiator, The (1998) (Action|Thriller)   \n",
       "8                                                          3578. Gladiator (2000) (Action|Drama)   \n",
       "9                                        2763. Thomas Crown Affair, The (1999) (Action|Thriller)   \n",
       "\n",
       "                                                  SVD  \\\n",
       "0       1147. When We Were Kings (1996) (Documentary)   \n",
       "1                     1272. Patton (1970) (Drama|War)   \n",
       "2          3338. For All Mankind (1989) (Documentary)   \n",
       "3           3634. Seven Days in May (1964) (Thriller)   \n",
       "4                      3342. Birdy (1984) (Drama|War)   \n",
       "5                   1203. 12 Angry Men (1957) (Drama)   \n",
       "6              1234. Sting, The (1973) (Comedy|Crime)   \n",
       "7  2183. Man Who Knew Too Much, The (1956) (Thriller)   \n",
       "8        3200. Last Detail, The (1973) (Comedy|Drama)   \n",
       "9          1276. Cool Hand Luke (1967) (Comedy|Drama)   \n",
       "\n",
       "                                                                                        ALS  \\\n",
       "0                                               377. Speed (1994) (Action|Romance|Thriller)   \n",
       "1                                                 1370. Die Hard 2 (1990) (Action|Thriller)   \n",
       "2          260. Star Wars: Episode IV - A New Hope (1977) (Action|Adventure|Fantasy|Sci-Fi)   \n",
       "3                                        1214. Alien (1979) (Action|Horror|Sci-Fi|Thriller)   \n",
       "4                                            2058. Negotiator, The (1998) (Action|Thriller)   \n",
       "5  2628. Star Wars: Episode I - The Phantom Menace (1999) (Action|Adventure|Fantasy|Sci-Fi)   \n",
       "6                                                     3578. Gladiator (2000) (Action|Drama)   \n",
       "7                                           1527. Fifth Element, The (1997) (Action|Sci-Fi)   \n",
       "8                                     1240. Terminator, The (1984) (Action|Sci-Fi|Thriller)   \n",
       "9                                   2763. Thomas Crown Affair, The (1999) (Action|Thriller)   \n",
       "\n",
       "                                                                                             BPR  \n",
       "0  1210. Star Wars: Episode VI - Return of the Jedi (1983) (Action|Adventure|Romance|Sci-Fi|War)  \n",
       "1                                        1198. Raiders of the Lost Ark (1981) (Action|Adventure)  \n",
       "2                                                    2858. American Beauty (1999) (Comedy|Drama)  \n",
       "3               260. Star Wars: Episode IV - A New Hope (1977) (Action|Adventure|Fantasy|Sci-Fi)  \n",
       "4                                                       2762. Sixth Sense, The (1999) (Thriller)  \n",
       "5                                                  318. Shawshank Redemption, The (1994) (Drama)  \n",
       "6                                         593. Silence of the Lambs, The (1991) (Drama|Thriller)  \n",
       "7                                                  356. Forrest Gump (1994) (Comedy|Romance|War)  \n",
       "8                                                         296. Pulp Fiction (1994) (Crime|Drama)  \n",
       "9                                                          3578. Gladiator (2000) (Action|Drama)  "
      ]
     },
     "execution_count": 24,
     "metadata": {},
     "output_type": "execute_result"
    }
   ],
   "source": [
    "construct_recommendations(7)\n"
   ]
  },
  {
   "cell_type": "code",
   "execution_count": null,
   "id": "nominated-former",
   "metadata": {},
   "outputs": [],
   "source": []
  }
 ],
 "metadata": {
  "kernelspec": {
   "display_name": "Python 3",
   "language": "python",
   "name": "python3"
  },
  "language_info": {
   "codemirror_mode": {
    "name": "ipython",
    "version": 3
   },
   "file_extension": ".py",
   "mimetype": "text/x-python",
   "name": "python",
   "nbconvert_exporter": "python",
   "pygments_lexer": "ipython3",
   "version": "3.8.5"
  }
 },
 "nbformat": 4,
 "nbformat_minor": 5
}
