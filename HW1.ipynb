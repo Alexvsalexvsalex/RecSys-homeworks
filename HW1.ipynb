{
 "cells": [
  {
   "cell_type": "markdown",
   "id": "bored-heater",
   "metadata": {
    "pycharm": {
     "name": "#%% md\n"
    }
   },
   "source": [
    "Копируем считывание из условия"
   ]
  },
  {
   "cell_type": "code",
   "execution_count": 31,
   "id": "entire-watch",
   "metadata": {},
   "outputs": [],
   "source": [
    "import datetime\n",
    "import implicit\n",
    "from abc import abstractmethod\n",
    "import pandas as pd\n",
    "import numpy as np\n",
    "import scipy.sparse as sp"
   ]
  },
  {
   "cell_type": "code",
   "execution_count": 32,
   "id": "qualified-corrections",
   "metadata": {},
   "outputs": [],
   "source": [
    "from pandas import DataFrame\n",
    "from scipy.special import expit\n",
    "ratings = pd.read_csv('ml-1m/ratings.dat', delimiter='::', header=None, \n",
    "        names=['user_id', 'movie_id', 'rating', 'timestamp'], \n",
    "        usecols=['user_id', 'movie_id', 'rating'], engine='python')"
   ]
  },
  {
   "cell_type": "code",
   "execution_count": 33,
   "id": "corrected-newport",
   "metadata": {},
   "outputs": [],
   "source": [
    "movie_info = pd.read_csv('ml-1m/movies.dat', delimiter='::', header=None, \n",
    "        names=['movie_id', 'name', 'category'], engine='python')"
   ]
  },
  {
   "cell_type": "code",
   "execution_count": 34,
   "id": "cheap-suggestion",
   "metadata": {},
   "outputs": [],
   "source": [
    "implicit_ratings = ratings.loc[(ratings['rating'] >= 4)].reset_index(drop=True)\n",
    "users = implicit_ratings[\"user_id\"]\n",
    "movies = implicit_ratings[\"movie_id\"]\n",
    "user_item = sp.coo_matrix((np.ones_like(users), (users, movies)))\n",
    "user_item_t_csr = user_item.T.tocsr()\n",
    "user_item_csr = user_item.tocsr()"
   ]
  },
  {
   "cell_type": "markdown",
   "id": "nearby-resistance",
   "metadata": {
    "pycharm": {
     "name": "#%% md\n"
    }
   },
   "source": [
    "Также скопируем вспомогательные функции"
   ]
  },
  {
   "cell_type": "code",
   "execution_count": 35,
   "id": "convenient-strap",
   "metadata": {
    "pycharm": {
     "name": "#%%\n"
    }
   },
   "outputs": [],
   "source": [
    "def format_movie(movie):\n",
    "    return f\"{movie['movie_id'].values[0]}. {movie['name'].values[0]} ({movie['category'].values[0]})\"\n",
    "\n",
    "def get_user_history(user_id, implicit_ratings):\n",
    "    return [format_movie(movie_info[movie_info[\"movie_id\"] == x]) for x in implicit_ratings[implicit_ratings[\"user_id\"] == user_id][\"movie_id\"]]\n",
    "\n",
    "def get_recommendations(user_id, model):\n",
    "    return [format_movie(movie_info[movie_info[\"movie_id\"] == x[0]]) for x in model.recommend(user_id, user_item_csr)]"
   ]
  },
  {
   "cell_type": "markdown",
   "id": "coral-triple",
   "metadata": {
    "pycharm": {
     "name": "#%% md\n"
    }
   },
   "source": [
    "Крутые модели умеют делать __.fit(...)__, __.recommend(...)__.\n",
    "Естественно хотим также, поэтому придется вспомнить ООП в Python"
   ]
  },
  {
   "cell_type": "code",
   "execution_count": 36,
   "id": "beautiful-andrews",
   "metadata": {},
   "outputs": [],
   "source": [
    "class AbstractModel:\n",
    "    def __init__(self):\n",
    "        self.user_vectors = None\n",
    "        self.item_vectors = None\n",
    "        self.item_bias = None\n",
    "        self.cnt_rec = 10\n",
    "\n",
    "        self.fitted = False\n",
    "\n",
    "    @abstractmethod\n",
    "    def __fit_impl__(self, **kwargs):\n",
    "        pass\n",
    "\n",
    "    def fit(self, data, **kwargs):\n",
    "        self.fitted = False\n",
    "        self.__fit_impl__(data=data, **kwargs)\n",
    "        self.fitted = True\n",
    "\n",
    "    def recommend(self, id, user_item_csr):\n",
    "        if not self.fitted: raise Exception('Using unfitted model')\n",
    "        similarity = np.dot(self.item_vectors, self.user_vectors[id])\n",
    "        if self.item_bias is not None: similarity += self.item_bias\n",
    "        recommendations = np.flip(similarity.argsort())\n",
    "        formatted_recommendations = np.fromiter((id_rec for id_rec in recommendations if user_item_csr[id, id_rec] == 0), dtype=recommendations.dtype)\n",
    "        return formatted_recommendations[:self.cnt_rec, np.newaxis]"
   ]
  },
  {
   "cell_type": "markdown",
   "id": "tough-valentine",
   "metadata": {},
   "source": [
    "Половина работы сделана, осталось только написать 4 варианта __.\\_\\_fit_impl\\_\\_()__"
   ]
  },
  {
   "cell_type": "markdown",
   "id": "tight-omega",
   "metadata": {
    "pycharm": {
     "name": "#%% md\n"
    }
   },
   "source": [
    "### Задание 1. Не используя готовые решения, реализовать SVD разложение используя SGD на explicit данных"
   ]
  },
  {
   "cell_type": "code",
   "execution_count": 37,
   "id": "supported-proceeding",
   "metadata": {
    "pycharm": {
     "name": "#%%\n"
    }
   },
   "outputs": [],
   "source": [
    "import random\n",
    "\n",
    "class Svd(AbstractModel):\n",
    "    def __fit_impl__(self, data: DataFrame, alpha=1e-2, learning_rate=1e-2, cnt_epoch=100):\n",
    "        cnt_users = data['user_id'].max() + 1\n",
    "        cnt_items = data['movie_id'].max() + 1\n",
    "        cnt_samples = len(data)\n",
    "\n",
    "        limit = 0.1\n",
    "        self.user_vectors = np.random.uniform(high=limit, size=[cnt_users, 128])\n",
    "        self.item_vectors = np.random.uniform(high=limit, size=[cnt_items, 128])\n",
    "\n",
    "        self.user_bias = np.random.uniform(high=limit, size=[cnt_users])\n",
    "        self.item_bias = np.random.uniform(high=limit, size=[cnt_items])\n",
    "\n",
    "        bias = 0\n",
    "\n",
    "        def correct(x, error):\n",
    "            return x - learning_rate * (error + x * alpha)\n",
    "\n",
    "        history: np.ndarray = data.values\n",
    "\n",
    "        for epoch in range(1, cnt_epoch + 1):\n",
    "            errors = []\n",
    "            epoch_start = datetime.datetime.utcnow()\n",
    "            for _ in range(cnt_samples):\n",
    "                sample_ind = random.randint(0, cnt_samples - 1)\n",
    "\n",
    "                user_id = history[sample_ind][0]\n",
    "                movie_id = history[sample_ind][1]\n",
    "\n",
    "                prediction = \\\n",
    "                    np.dot(self.user_vectors[user_id], self.item_vectors[movie_id]) + \\\n",
    "                    self.user_bias[user_id] + self.item_bias[movie_id] + bias\n",
    "                error = prediction - history[sample_ind][2]\n",
    "                errors.append(error ** 2)\n",
    "\n",
    "                saved_user_vector = self.user_vectors[user_id]\n",
    "                self.user_vectors[user_id] = \\\n",
    "                    correct(saved_user_vector, error * self.item_vectors[movie_id])\n",
    "                self.user_bias[user_id] = correct(self.user_bias[user_id], error)\n",
    "                self.item_vectors[movie_id] = \\\n",
    "                    correct(self.item_vectors[movie_id], error * saved_user_vector)\n",
    "                self.item_bias[movie_id] = correct(self.item_bias[movie_id], error)\n",
    "                bias = correct(bias, error)\n",
    "            epoch_time = datetime.datetime.utcnow() - epoch_start\n",
    "            print(f\"Average error in {epoch} epoch is {sum(errors) / len(errors)}. Time = {epoch_time.seconds} s.\")"
   ]
  },
  {
   "cell_type": "markdown",
   "id": "early-crowd",
   "metadata": {
    "pycharm": {
     "name": "#%% md\n"
    }
   },
   "source": [
    "### Задание 2. Не используя готовые решения, реализовать матричное разложение используя ALS на implicit данных"
   ]
  },
  {
   "cell_type": "code",
   "execution_count": 38,
   "id": "invalid-audit",
   "metadata": {
    "pycharm": {
     "name": "#%%\n"
    }
   },
   "outputs": [],
   "source": [
    "import tensorflow as tf\n",
    "\n",
    "class Als(AbstractModel):\n",
    "    def __fit_impl__(self, data: sp.csr_matrix, alpha=1e1, cnt_epoch=20):\n",
    "        p = tf.cast(tf.convert_to_tensor(data.toarray()), tf.float32)\n",
    "        p_t = tf.transpose(p)\n",
    "        C = p * alpha + 1.0\n",
    "        C_t = tf.transpose(C)\n",
    "\n",
    "        cnt_users = p.shape[0]\n",
    "        cnt_items = p.shape[1]\n",
    "\n",
    "        limit = 0.125\n",
    "        self.user_vectors = tf.random.uniform(shape=(cnt_users, 64), maxval=limit)\n",
    "        self.item_vectors = tf.random.uniform(shape=(cnt_items, 64), maxval=limit)\n",
    "\n",
    "        diag_matrix = tf.linalg.tensor_diag([0.01] * 64)\n",
    "\n",
    "        def calculate_row(vec, C, p):\n",
    "            return tf.linalg.matvec(\n",
    "                tf.linalg.matmul(\n",
    "                    tf.linalg.inv(\n",
    "                        tf.linalg.matmul(\n",
    "                            tf.transpose(vec) * C,\n",
    "                            vec) + diag_matrix),\n",
    "                    tf.transpose(vec) * C),\n",
    "                p)\n",
    "\n",
    "        for epoch in range(1, cnt_epoch + 1, 2):\n",
    "            epoch_start = datetime.datetime.utcnow()\n",
    "            self.user_vectors = tf.convert_to_tensor(\n",
    "                [calculate_row(self.item_vectors, C[i], p[i]) for i in range(cnt_users)])\n",
    "            if epoch < cnt_epoch:\n",
    "                self.item_vectors = tf.convert_to_tensor(\n",
    "                    [calculate_row(self.user_vectors, C_t[i], p_t[i]) for i in range(cnt_items)])\n",
    "            error = tf.reduce_mean((tf.linalg.matmul(self.user_vectors, tf.transpose(self.item_vectors)) - p) ** 2)\n",
    "            epoch_time = datetime.datetime.utcnow() - epoch_start\n",
    "            print(f\"Error in {epoch}-{epoch + 1} epochs is {error}. Time = {epoch_time.seconds} s.\")"
   ]
  },
  {
   "cell_type": "markdown",
   "id": "surgical-ebony",
   "metadata": {
    "pycharm": {
     "name": "#%% md\n"
    }
   },
   "source": [
    "### Задание 3. Не используя готовые решения, реализовать матричное разложение BPR на implicit данных"
   ]
  },
  {
   "cell_type": "code",
   "execution_count": 39,
   "id": "sunset-pencil",
   "metadata": {
    "pycharm": {
     "name": "#%%\n"
    }
   },
   "outputs": [],
   "source": [
    "class Bpr(AbstractModel):\n",
    "    def __fit_impl__(self, data: DataFrame, learning_rate=1e-2, alpha=1e-2, cnt_epoch=30):\n",
    "        cnt_users = data['user_id'].max() + 1\n",
    "        cnt_items = data['movie_id'].max() + 1\n",
    "        cnt_samples = len(data)\n",
    "\n",
    "        limit = 0.125\n",
    "        self.user_vectors = np.random.uniform(high=limit, size=[cnt_users, 128])\n",
    "        self.item_vectors = np.random.uniform(high=limit, size=[cnt_items, 128])\n",
    "\n",
    "        def correct(x, error):\n",
    "            return x - learning_rate * (error + x * alpha)\n",
    "\n",
    "        history: np.ndarray = data.values\n",
    "\n",
    "        for epoch in range(1, cnt_epoch + 1):\n",
    "            epoch_start = datetime.datetime.utcnow()\n",
    "            negative_movies = np.random.randint(low=0, high=cnt_items, size=[cnt_samples])\n",
    "            errors = []\n",
    "\n",
    "            for _ in range(cnt_samples):\n",
    "                sample_ind = random.randint(0, cnt_samples - 1)\n",
    "\n",
    "                user_id = history[sample_ind][0]\n",
    "                movie_id = history[sample_ind][1]\n",
    "                movie_2_id = negative_movies[sample_ind]\n",
    "\n",
    "                difference = self.item_vectors[movie_id] - self.item_vectors[movie_2_id]\n",
    "                user_vector = self.user_vectors[user_id]\n",
    "                error = expit(-np.dot(user_vector, difference))\n",
    "\n",
    "                self.user_vectors[user_id] = correct(self.user_vectors[user_id], -error * difference)\n",
    "                self.item_vectors[movie_id] = correct(self.item_vectors[movie_id], -error * user_vector)\n",
    "                self.item_vectors[movie_2_id] = correct(self.item_vectors[movie_2_id], error * user_vector)\n",
    "                errors.append(np.log(error))\n",
    "            epoch_time = datetime.datetime.utcnow() - epoch_start\n",
    "            print(f\"Average error in {epoch} epoch is {sum(errors) / len(errors)}. Time = {epoch_time.seconds} s.\")"
   ]
  },
  {
   "cell_type": "markdown",
   "id": "sunrise-separate",
   "metadata": {},
   "source": [
    "Всё, теперь посмотрим на рекомендации библиотечной модели и наших трёх."
   ]
  },
  {
   "cell_type": "code",
   "execution_count": 40,
   "id": "funky-spirituality",
   "metadata": {
    "pycharm": {
     "name": "#%%\n"
    }
   },
   "outputs": [
    {
     "data": {
      "text/plain": "  0%|          | 0/100 [00:00<?, ?it/s]",
      "application/vnd.jupyter.widget-view+json": {
       "version_major": 2,
       "version_minor": 0,
       "model_id": "6991f6bd9fd040149f865cc055cbf9e7"
      }
     },
     "metadata": {},
     "output_type": "display_data"
    }
   ],
   "source": [
    "library_model = implicit.als.AlternatingLeastSquares(factors=64, iterations=100, calculate_training_loss=True)\n",
    "library_model.fit(user_item_t_csr)"
   ]
  },
  {
   "cell_type": "code",
   "execution_count": 41,
   "id": "earned-competition",
   "metadata": {
    "pycharm": {
     "name": "#%%\n"
    }
   },
   "outputs": [
    {
     "name": "stdout",
     "output_type": "stream",
     "text": [
      "Average error in 1 epoch is 0.8833346415916736. Time = 28 s.\n",
      "Average error in 2 epoch is 0.8206529662474858. Time = 27 s.\n",
      "Average error in 3 epoch is 0.8007058637644624. Time = 27 s.\n",
      "Average error in 4 epoch is 0.7716102980583966. Time = 27 s.\n",
      "Average error in 5 epoch is 0.7264685801558614. Time = 27 s.\n",
      "Average error in 6 epoch is 0.6748900481122385. Time = 27 s.\n",
      "Average error in 7 epoch is 0.6202030108967974. Time = 27 s.\n",
      "Average error in 8 epoch is 0.5656413859254246. Time = 27 s.\n",
      "Average error in 9 epoch is 0.5137615104262576. Time = 28 s.\n",
      "Average error in 10 epoch is 0.4661430469523228. Time = 27 s.\n",
      "Average error in 11 epoch is 0.4241671116110198. Time = 27 s.\n",
      "Average error in 12 epoch is 0.3868902628885745. Time = 27 s.\n",
      "Average error in 13 epoch is 0.35550728397012993. Time = 27 s.\n",
      "Average error in 14 epoch is 0.3303208003386003. Time = 28 s.\n",
      "Average error in 15 epoch is 0.3056956133891929. Time = 27 s.\n",
      "Average error in 16 epoch is 0.28689996026998177. Time = 28 s.\n",
      "Average error in 17 epoch is 0.27018210491975075. Time = 27 s.\n",
      "Average error in 18 epoch is 0.2550797801679848. Time = 27 s.\n",
      "Average error in 19 epoch is 0.24270938959222074. Time = 27 s.\n",
      "Average error in 20 epoch is 0.23103266331158503. Time = 27 s.\n",
      "Average error in 21 epoch is 0.22104652928654248. Time = 27 s.\n",
      "Average error in 22 epoch is 0.21273435919909076. Time = 27 s.\n",
      "Average error in 23 epoch is 0.20489824976432253. Time = 27 s.\n",
      "Average error in 24 epoch is 0.19888402812936176. Time = 27 s.\n",
      "Average error in 25 epoch is 0.19175478276962282. Time = 28 s.\n",
      "Average error in 26 epoch is 0.18670021594023262. Time = 27 s.\n",
      "Average error in 27 epoch is 0.1818068784274034. Time = 27 s.\n",
      "Average error in 28 epoch is 0.177101908294885. Time = 27 s.\n",
      "Average error in 29 epoch is 0.17242855430584259. Time = 28 s.\n",
      "Average error in 30 epoch is 0.16908394653940628. Time = 28 s.\n",
      "Average error in 31 epoch is 0.1655534838731324. Time = 27 s.\n",
      "Average error in 32 epoch is 0.16318139925205388. Time = 27 s.\n",
      "Average error in 33 epoch is 0.15995806242522487. Time = 28 s.\n",
      "Average error in 34 epoch is 0.1569160565817208. Time = 28 s.\n",
      "Average error in 35 epoch is 0.15493962430227964. Time = 27 s.\n",
      "Average error in 36 epoch is 0.1526043980419528. Time = 28 s.\n",
      "Average error in 37 epoch is 0.1502046382737809. Time = 27 s.\n",
      "Average error in 38 epoch is 0.14830047954274184. Time = 28 s.\n",
      "Average error in 39 epoch is 0.14602959222374715. Time = 27 s.\n",
      "Average error in 40 epoch is 0.1446430229636538. Time = 27 s.\n",
      "Average error in 41 epoch is 0.14326219964322914. Time = 28 s.\n",
      "Average error in 42 epoch is 0.14127661900169944. Time = 28 s.\n",
      "Average error in 43 epoch is 0.13957841004781993. Time = 27 s.\n",
      "Average error in 44 epoch is 0.13902277735777044. Time = 28 s.\n",
      "Average error in 45 epoch is 0.13731268076609446. Time = 28 s.\n",
      "Average error in 46 epoch is 0.1360106041344037. Time = 27 s.\n",
      "Average error in 47 epoch is 0.13464517291114209. Time = 28 s.\n",
      "Average error in 48 epoch is 0.13347412680841592. Time = 28 s.\n",
      "Average error in 49 epoch is 0.13292486609501236. Time = 28 s.\n",
      "Average error in 50 epoch is 0.13135859405940253. Time = 27 s.\n",
      "Average error in 51 epoch is 0.13074316753017254. Time = 27 s.\n",
      "Average error in 52 epoch is 0.13000921511012237. Time = 28 s.\n",
      "Average error in 53 epoch is 0.12892331599044088. Time = 27 s.\n",
      "Average error in 54 epoch is 0.12814713952109738. Time = 27 s.\n",
      "Average error in 55 epoch is 0.12718033166183737. Time = 27 s.\n",
      "Average error in 56 epoch is 0.12636062568525203. Time = 27 s.\n",
      "Average error in 57 epoch is 0.12576221284668065. Time = 27 s.\n",
      "Average error in 58 epoch is 0.12510262251409174. Time = 28 s.\n",
      "Average error in 59 epoch is 0.12416001513690564. Time = 27 s.\n",
      "Average error in 60 epoch is 0.12382764223927802. Time = 27 s.\n",
      "Average error in 61 epoch is 0.12332015104283105. Time = 27 s.\n",
      "Average error in 62 epoch is 0.12278920401880324. Time = 28 s.\n",
      "Average error in 63 epoch is 0.12166518170059368. Time = 27 s.\n",
      "Average error in 64 epoch is 0.121230637280105. Time = 27 s.\n",
      "Average error in 65 epoch is 0.12131087450071366. Time = 28 s.\n",
      "Average error in 66 epoch is 0.1205412999751592. Time = 28 s.\n",
      "Average error in 67 epoch is 0.11971012035766118. Time = 27 s.\n",
      "Average error in 68 epoch is 0.11955150243038665. Time = 27 s.\n",
      "Average error in 69 epoch is 0.1185589712340831. Time = 27 s.\n",
      "Average error in 70 epoch is 0.1185215499892772. Time = 27 s.\n",
      "Average error in 71 epoch is 0.11846752037468654. Time = 27 s.\n",
      "Average error in 72 epoch is 0.11768501847531285. Time = 27 s.\n",
      "Average error in 73 epoch is 0.11692793460189428. Time = 28 s.\n",
      "Average error in 74 epoch is 0.11676899541885291. Time = 28 s.\n",
      "Average error in 75 epoch is 0.11654341713692498. Time = 27 s.\n",
      "Average error in 76 epoch is 0.1160183240817754. Time = 27 s.\n",
      "Average error in 77 epoch is 0.11600859080360004. Time = 27 s.\n",
      "Average error in 78 epoch is 0.11524433476348049. Time = 27 s.\n",
      "Average error in 79 epoch is 0.11474532877471597. Time = 27 s.\n",
      "Average error in 80 epoch is 0.11504919884948993. Time = 27 s.\n",
      "Average error in 81 epoch is 0.11422554853560951. Time = 28 s.\n",
      "Average error in 82 epoch is 0.11395132763030097. Time = 27 s.\n",
      "Average error in 83 epoch is 0.11381565866535283. Time = 27 s.\n",
      "Average error in 84 epoch is 0.11373089859540493. Time = 27 s.\n",
      "Average error in 85 epoch is 0.11332129715349336. Time = 28 s.\n",
      "Average error in 86 epoch is 0.11335527605015595. Time = 27 s.\n",
      "Average error in 87 epoch is 0.11278501740828427. Time = 27 s.\n",
      "Average error in 88 epoch is 0.1121879265945347. Time = 27 s.\n",
      "Average error in 89 epoch is 0.11229322734581466. Time = 27 s.\n",
      "Average error in 90 epoch is 0.11183094405553394. Time = 27 s.\n",
      "Average error in 91 epoch is 0.11165489837135749. Time = 28 s.\n",
      "Average error in 92 epoch is 0.11150214033050825. Time = 28 s.\n",
      "Average error in 93 epoch is 0.11097867541871212. Time = 28 s.\n",
      "Average error in 94 epoch is 0.11108589051816659. Time = 28 s.\n",
      "Average error in 95 epoch is 0.11069616545725317. Time = 27 s.\n",
      "Average error in 96 epoch is 0.11009346191321899. Time = 27 s.\n",
      "Average error in 97 epoch is 0.1099165600607885. Time = 27 s.\n",
      "Average error in 98 epoch is 0.10964614066633235. Time = 27 s.\n",
      "Average error in 99 epoch is 0.10965877204055635. Time = 28 s.\n",
      "Average error in 100 epoch is 0.10947897407900431. Time = 28 s.\n"
     ]
    }
   ],
   "source": [
    "svd_model = Svd()\n",
    "svd_model.fit(data=ratings)"
   ]
  },
  {
   "cell_type": "code",
   "execution_count": 42,
   "id": "protective-infrastructure",
   "metadata": {
    "pycharm": {
     "name": "#%%\n"
    }
   },
   "outputs": [
    {
     "name": "stdout",
     "output_type": "stream",
     "text": [
      "Error in 1-2 epochs is 0.039610426872968674. Time = 23 s.\n",
      "Error in 3-4 epochs is 0.03528401255607605. Time = 23 s.\n",
      "Error in 5-6 epochs is 0.034002240747213364. Time = 23 s.\n",
      "Error in 7-8 epochs is 0.033531904220581055. Time = 23 s.\n",
      "Error in 9-10 epochs is 0.033298809081315994. Time = 23 s.\n",
      "Error in 11-12 epochs is 0.033164799213409424. Time = 24 s.\n",
      "Error in 13-14 epochs is 0.03308132663369179. Time = 23 s.\n",
      "Error in 15-16 epochs is 0.03302651271224022. Time = 23 s.\n",
      "Error in 17-18 epochs is 0.03298892825841904. Time = 23 s.\n",
      "Error in 19-20 epochs is 0.032962169498205185. Time = 24 s.\n"
     ]
    }
   ],
   "source": [
    "als_model = Als()\n",
    "als_model.fit(data=user_item_csr)"
   ]
  },
  {
   "cell_type": "code",
   "execution_count": 43,
   "id": "explicit-stream",
   "metadata": {
    "pycharm": {
     "name": "#%%\n"
    }
   },
   "outputs": [
    {
     "name": "stdout",
     "output_type": "stream",
     "text": [
      "Average error in 1 epoch is -1.0082818187021054. Time = 20 s.\n",
      "Average error in 2 epoch is -1.5261330479602553. Time = 20 s.\n",
      "Average error in 3 epoch is -1.8241977171781802. Time = 20 s.\n",
      "Average error in 4 epoch is -1.9953837222087702. Time = 20 s.\n",
      "Average error in 5 epoch is -2.097714514137024. Time = 20 s.\n",
      "Average error in 6 epoch is -2.179461705038402. Time = 20 s.\n",
      "Average error in 7 epoch is -2.2405373761868836. Time = 20 s.\n",
      "Average error in 8 epoch is -2.2934128127536764. Time = 20 s.\n",
      "Average error in 9 epoch is -2.3235382700738856. Time = 20 s.\n",
      "Average error in 10 epoch is -2.359575487244047. Time = 20 s.\n",
      "Average error in 11 epoch is -2.392249494449624. Time = 20 s.\n",
      "Average error in 12 epoch is -2.4169218440342752. Time = 20 s.\n",
      "Average error in 13 epoch is -2.4383575709912475. Time = 20 s.\n",
      "Average error in 14 epoch is -2.4575321735427247. Time = 20 s.\n",
      "Average error in 15 epoch is -2.473607922858665. Time = 20 s.\n",
      "Average error in 16 epoch is -2.5006870014297276. Time = 20 s.\n",
      "Average error in 17 epoch is -2.527861432746764. Time = 20 s.\n",
      "Average error in 18 epoch is -2.555073659073395. Time = 20 s.\n",
      "Average error in 19 epoch is -2.577745238787657. Time = 20 s.\n",
      "Average error in 20 epoch is -2.5932706724595085. Time = 20 s.\n",
      "Average error in 21 epoch is -2.621835029771566. Time = 20 s.\n",
      "Average error in 22 epoch is -2.6408851641640108. Time = 20 s.\n",
      "Average error in 23 epoch is -2.6788104344785872. Time = 20 s.\n",
      "Average error in 24 epoch is -2.7023593746446575. Time = 20 s.\n",
      "Average error in 25 epoch is -2.7203478556290204. Time = 20 s.\n",
      "Average error in 26 epoch is -2.743579676240797. Time = 19 s.\n",
      "Average error in 27 epoch is -2.7668509391802525. Time = 20 s.\n",
      "Average error in 28 epoch is -2.7963925800484333. Time = 20 s.\n",
      "Average error in 29 epoch is -2.8125386400957684. Time = 20 s.\n",
      "Average error in 30 epoch is -2.8367386017905694. Time = 20 s.\n"
     ]
    }
   ],
   "source": [
    "bpr_model = Bpr()\n",
    "bpr_model.fit(data=implicit_ratings)"
   ]
  },
  {
   "cell_type": "markdown",
   "id": "prompt-rapid",
   "metadata": {
    "pycharm": {
     "name": "#%% md\n"
    }
   },
   "source": [
    "Взглянем на историю пользователя с ID = 4, а затем проверим рекоммендации"
   ]
  },
  {
   "cell_type": "code",
   "execution_count": 44,
   "id": "curious-substance",
   "metadata": {
    "pycharm": {
     "name": "#%%\n"
    }
   },
   "outputs": [
    {
     "data": {
      "text/plain": "['3468. Hustler, The (1961) (Drama)',\n '2951. Fistful of Dollars, A (1964) (Action|Western)',\n '1214. Alien (1979) (Action|Horror|Sci-Fi|Thriller)',\n '1036. Die Hard (1988) (Action|Thriller)',\n '260. Star Wars: Episode IV - A New Hope (1977) (Action|Adventure|Fantasy|Sci-Fi)',\n '2028. Saving Private Ryan (1998) (Action|Drama|War)',\n '480. Jurassic Park (1993) (Action|Adventure|Sci-Fi)',\n '1198. Raiders of the Lost Ark (1981) (Action|Adventure)',\n '1954. Rocky (1976) (Action|Drama)',\n \"1097. E.T. the Extra-Terrestrial (1982) (Children's|Drama|Fantasy|Sci-Fi)\",\n '3418. Thelma & Louise (1991) (Action|Drama)',\n '3702. Mad Max (1979) (Action|Sci-Fi)',\n '2366. King Kong (1933) (Action|Adventure|Horror)',\n '1387. Jaws (1975) (Action|Horror)',\n '1201. Good, The Bad and The Ugly, The (1966) (Action|Western)',\n '2692. Run Lola Run (Lola rennt) (1998) (Action|Crime|Romance)',\n '2947. Goldfinger (1964) (Action)',\n '1240. Terminator, The (1984) (Action|Sci-Fi|Thriller)']"
     },
     "execution_count": 44,
     "metadata": {},
     "output_type": "execute_result"
    }
   ],
   "source": [
    "get_user_history(4, implicit_ratings)"
   ]
  },
  {
   "cell_type": "markdown",
   "id": "tender-heath",
   "metadata": {
    "pycharm": {
     "name": "#%% md\n"
    }
   },
   "source": [
    "Посмотрим на все рекомендации"
   ]
  },
  {
   "cell_type": "code",
   "execution_count": 45,
   "id": "liked-frederick",
   "metadata": {
    "pycharm": {
     "name": "#%%\n"
    }
   },
   "outputs": [],
   "source": [
    "pd.set_option('display.max_colwidth', None)\n",
    "\n",
    "def construct_recommendations(id):\n",
    "    return pd.DataFrame(list(\n",
    "        zip(get_recommendations(id, library_model),\n",
    "        get_recommendations(id, svd_model),\n",
    "        get_recommendations(id, als_model),\n",
    "        get_recommendations(id, bpr_model))),\n",
    "             columns=['Library ALS', 'SVD', 'ALS', 'BPR']).head(10)"
   ]
  },
  {
   "cell_type": "code",
   "execution_count": 46,
   "id": "pressing-symphony",
   "metadata": {
    "pycharm": {
     "name": "#%%\n"
    }
   },
   "outputs": [
    {
     "data": {
      "text/plain": "                                                                                       Library ALS  \\\n0                                  589. Terminator 2: Judgment Day (1991) (Action|Sci-Fi|Thriller)   \n1  1196. Star Wars: Episode V - The Empire Strikes Back (1980) (Action|Adventure|Drama|Sci-Fi|War)   \n2                          1304. Butch Cassidy and the Sundance Kid (1969) (Action|Comedy|Western)   \n3                               1291. Indiana Jones and the Last Crusade (1989) (Action|Adventure)   \n4                                                 1200. Aliens (1986) (Action|Sci-Fi|Thriller|War)   \n5                                                2571. Matrix, The (1999) (Action|Sci-Fi|Thriller)   \n6                                1953. French Connection, The (1971) (Action|Crime|Drama|Thriller)   \n7                                                   3527. Predator (1987) (Action|Sci-Fi|Thriller)   \n8                                                  858. Godfather, The (1972) (Action|Crime|Drama)   \n9                                   3471. Close Encounters of the Third Kind (1977) (Drama|Sci-Fi)   \n\n                                                     SVD  \\\n0                     3421. Animal House (1978) (Comedy)   \n1              953. It's a Wonderful Life (1946) (Drama)   \n2        858. Godfather, The (1972) (Action|Crime|Drama)   \n3                       1283. High Noon (1952) (Western)   \n4             912. Casablanca (1942) (Drama|Romance|War)   \n5              3095. Grapes of Wrath, The (1940) (Drama)   \n6  1136. Monty Python and the Holy Grail (1974) (Comedy)   \n7          3363. American Graffiti (1973) (Comedy|Drama)   \n8          3671. Blazing Saddles (1974) (Comedy|Western)   \n9                      1203. 12 Angry Men (1957) (Drama)   \n\n                                                                                               ALS  \\\n0                                  589. Terminator 2: Judgment Day (1991) (Action|Sci-Fi|Thriller)   \n1  1196. Star Wars: Episode V - The Empire Strikes Back (1980) (Action|Adventure|Drama|Sci-Fi|War)   \n2                                                2571. Matrix, The (1999) (Action|Sci-Fi|Thriller)   \n3    1210. Star Wars: Episode VI - Return of the Jedi (1983) (Action|Adventure|Romance|Sci-Fi|War)   \n4                                                 1200. Aliens (1986) (Action|Sci-Fi|Thriller|War)   \n5                                                      457. Fugitive, The (1993) (Action|Thriller)   \n6                               1291. Indiana Jones and the Last Crusade (1989) (Action|Adventure)   \n7                          1304. Butch Cassidy and the Sundance Kid (1969) (Action|Comedy|Western)   \n8                                                        110. Braveheart (1995) (Action|Drama|War)   \n9                                 3703. Mad Max 2 (a.k.a. The Road Warrior) (1981) (Action|Sci-Fi)   \n\n                                                                                               BPR  \n0  1196. Star Wars: Episode V - The Empire Strikes Back (1980) (Action|Adventure|Drama|Sci-Fi|War)  \n1                                                         2762. Sixth Sense, The (1999) (Thriller)  \n2                                                           296. Pulp Fiction (1994) (Crime|Drama)  \n3                                                      2858. American Beauty (1999) (Comedy|Drama)  \n4                                           593. Silence of the Lambs, The (1991) (Drama|Thriller)  \n5                                1617. L.A. Confidential (1997) (Crime|Film-Noir|Mystery|Thriller)  \n6                               1197. Princess Bride, The (1987) (Action|Adventure|Comedy|Romance)  \n7                                                  858. Godfather, The (1972) (Action|Crime|Drama)  \n8                                                       2997. Being John Malkovich (1999) (Comedy)  \n9                                                         527. Schindler's List (1993) (Drama|War)  ",
      "text/html": "<div>\n<style scoped>\n    .dataframe tbody tr th:only-of-type {\n        vertical-align: middle;\n    }\n\n    .dataframe tbody tr th {\n        vertical-align: top;\n    }\n\n    .dataframe thead th {\n        text-align: right;\n    }\n</style>\n<table border=\"1\" class=\"dataframe\">\n  <thead>\n    <tr style=\"text-align: right;\">\n      <th></th>\n      <th>Library ALS</th>\n      <th>SVD</th>\n      <th>ALS</th>\n      <th>BPR</th>\n    </tr>\n  </thead>\n  <tbody>\n    <tr>\n      <th>0</th>\n      <td>589. Terminator 2: Judgment Day (1991) (Action|Sci-Fi|Thriller)</td>\n      <td>3421. Animal House (1978) (Comedy)</td>\n      <td>589. Terminator 2: Judgment Day (1991) (Action|Sci-Fi|Thriller)</td>\n      <td>1196. Star Wars: Episode V - The Empire Strikes Back (1980) (Action|Adventure|Drama|Sci-Fi|War)</td>\n    </tr>\n    <tr>\n      <th>1</th>\n      <td>1196. Star Wars: Episode V - The Empire Strikes Back (1980) (Action|Adventure|Drama|Sci-Fi|War)</td>\n      <td>953. It's a Wonderful Life (1946) (Drama)</td>\n      <td>1196. Star Wars: Episode V - The Empire Strikes Back (1980) (Action|Adventure|Drama|Sci-Fi|War)</td>\n      <td>2762. Sixth Sense, The (1999) (Thriller)</td>\n    </tr>\n    <tr>\n      <th>2</th>\n      <td>1304. Butch Cassidy and the Sundance Kid (1969) (Action|Comedy|Western)</td>\n      <td>858. Godfather, The (1972) (Action|Crime|Drama)</td>\n      <td>2571. Matrix, The (1999) (Action|Sci-Fi|Thriller)</td>\n      <td>296. Pulp Fiction (1994) (Crime|Drama)</td>\n    </tr>\n    <tr>\n      <th>3</th>\n      <td>1291. Indiana Jones and the Last Crusade (1989) (Action|Adventure)</td>\n      <td>1283. High Noon (1952) (Western)</td>\n      <td>1210. Star Wars: Episode VI - Return of the Jedi (1983) (Action|Adventure|Romance|Sci-Fi|War)</td>\n      <td>2858. American Beauty (1999) (Comedy|Drama)</td>\n    </tr>\n    <tr>\n      <th>4</th>\n      <td>1200. Aliens (1986) (Action|Sci-Fi|Thriller|War)</td>\n      <td>912. Casablanca (1942) (Drama|Romance|War)</td>\n      <td>1200. Aliens (1986) (Action|Sci-Fi|Thriller|War)</td>\n      <td>593. Silence of the Lambs, The (1991) (Drama|Thriller)</td>\n    </tr>\n    <tr>\n      <th>5</th>\n      <td>2571. Matrix, The (1999) (Action|Sci-Fi|Thriller)</td>\n      <td>3095. Grapes of Wrath, The (1940) (Drama)</td>\n      <td>457. Fugitive, The (1993) (Action|Thriller)</td>\n      <td>1617. L.A. Confidential (1997) (Crime|Film-Noir|Mystery|Thriller)</td>\n    </tr>\n    <tr>\n      <th>6</th>\n      <td>1953. French Connection, The (1971) (Action|Crime|Drama|Thriller)</td>\n      <td>1136. Monty Python and the Holy Grail (1974) (Comedy)</td>\n      <td>1291. Indiana Jones and the Last Crusade (1989) (Action|Adventure)</td>\n      <td>1197. Princess Bride, The (1987) (Action|Adventure|Comedy|Romance)</td>\n    </tr>\n    <tr>\n      <th>7</th>\n      <td>3527. Predator (1987) (Action|Sci-Fi|Thriller)</td>\n      <td>3363. American Graffiti (1973) (Comedy|Drama)</td>\n      <td>1304. Butch Cassidy and the Sundance Kid (1969) (Action|Comedy|Western)</td>\n      <td>858. Godfather, The (1972) (Action|Crime|Drama)</td>\n    </tr>\n    <tr>\n      <th>8</th>\n      <td>858. Godfather, The (1972) (Action|Crime|Drama)</td>\n      <td>3671. Blazing Saddles (1974) (Comedy|Western)</td>\n      <td>110. Braveheart (1995) (Action|Drama|War)</td>\n      <td>2997. Being John Malkovich (1999) (Comedy)</td>\n    </tr>\n    <tr>\n      <th>9</th>\n      <td>3471. Close Encounters of the Third Kind (1977) (Drama|Sci-Fi)</td>\n      <td>1203. 12 Angry Men (1957) (Drama)</td>\n      <td>3703. Mad Max 2 (a.k.a. The Road Warrior) (1981) (Action|Sci-Fi)</td>\n      <td>527. Schindler's List (1993) (Drama|War)</td>\n    </tr>\n  </tbody>\n</table>\n</div>"
     },
     "execution_count": 46,
     "metadata": {},
     "output_type": "execute_result"
    }
   ],
   "source": [
    "construct_recommendations(4)"
   ]
  },
  {
   "cell_type": "markdown",
   "id": "hollow-spectacular",
   "metadata": {},
   "source": [
    "Аналогично для пользователя с ID = 7"
   ]
  },
  {
   "cell_type": "code",
   "execution_count": 47,
   "id": "ambient-picnic",
   "metadata": {
    "pycharm": {
     "name": "#%%\n"
    }
   },
   "outputs": [
    {
     "data": {
      "text/plain": "['648. Mission: Impossible (1996) (Action|Adventure|Mystery)',\n '861. Supercop (1992) (Action|Thriller)',\n '2916. Total Recall (1990) (Action|Adventure|Sci-Fi|Thriller)',\n '1610. Hunt for Red October, The (1990) (Action|Thriller)',\n '589. Terminator 2: Judgment Day (1991) (Action|Sci-Fi|Thriller)',\n '6. Heat (1995) (Action|Crime|Thriller)',\n '442. Demolition Man (1993) (Action|Sci-Fi)',\n '733. Rock, The (1996) (Action|Adventure|Thriller)',\n '2353. Enemy of the State (1998) (Action|Thriller)',\n '1196. Star Wars: Episode V - The Empire Strikes Back (1980) (Action|Adventure|Drama|Sci-Fi|War)',\n '2571. Matrix, The (1999) (Action|Sci-Fi|Thriller)',\n '380. True Lies (1994) (Action|Adventure|Comedy|Romance)',\n '1997. Exorcist, The (1973) (Horror)',\n '1270. Back to the Future (1985) (Comedy|Sci-Fi)',\n '457. Fugitive, The (1993) (Action|Thriller)',\n '1573. Face/Off (1997) (Action|Sci-Fi|Thriller)',\n '3753. Patriot, The (2000) (Action|Drama|War)',\n '474. In the Line of Fire (1993) (Action|Thriller)',\n '1722. Tomorrow Never Dies (1997) (Action|Romance|Thriller)',\n '3256. Patriot Games (1992) (Action|Thriller)',\n '1580. Men in Black (1997) (Action|Adventure|Comedy|Sci-Fi)',\n '110. Braveheart (1995) (Action|Drama|War)',\n '1221. Godfather: Part II, The (1974) (Action|Crime|Drama)',\n '2028. Saving Private Ryan (1998) (Action|Drama|War)',\n '480. Jurassic Park (1993) (Action|Adventure|Sci-Fi)',\n '349. Clear and Present Danger (1994) (Action|Adventure|Thriller)']"
     },
     "execution_count": 47,
     "metadata": {},
     "output_type": "execute_result"
    }
   ],
   "source": [
    "get_user_history(7, implicit_ratings)"
   ]
  },
  {
   "cell_type": "code",
   "execution_count": 48,
   "id": "understanding-locator",
   "metadata": {
    "pycharm": {
     "name": "#%%\n"
    }
   },
   "outputs": [
    {
     "data": {
      "text/plain": "                                                                                     Library ALS  \\\n0                                                    377. Speed (1994) (Action|Romance|Thriller)   \n1                                                   1608. Air Force One (1997) (Action|Thriller)   \n2                                                      1370. Die Hard 2 (1990) (Action|Thriller)   \n3                                                858. Godfather, The (1972) (Action|Crime|Drama)   \n4  1210. Star Wars: Episode VI - Return of the Jedi (1983) (Action|Adventure|Romance|Sci-Fi|War)   \n5                                         780. Independence Day (ID4) (1996) (Action|Sci-Fi|War)   \n6                                        2763. Thomas Crown Affair, The (1999) (Action|Thriller)   \n7                                                 2058. Negotiator, The (1998) (Action|Thriller)   \n8                                    1408. Last of the Mohicans, The (1992) (Action|Romance|War)   \n9               260. Star Wars: Episode IV - A New Hope (1977) (Action|Adventure|Fantasy|Sci-Fi)   \n\n                                                                  SVD  \\\n0             1198. Raiders of the Lost Ark (1981) (Action|Adventure)   \n1                    3062. Longest Day, The (1962) (Action|Drama|War)   \n2        2764. Thomas Crown Affair, The (1968) (Crime|Drama|Thriller)   \n3                       318. Shawshank Redemption, The (1994) (Drama)   \n4                       1287. Ben-Hur (1959) (Action|Adventure|Drama)   \n5               1939. Best Years of Our Lives, The (1946) (Drama|War)   \n6  1291. Indiana Jones and the Last Crusade (1989) (Action|Adventure)   \n7                          3338. For All Mankind (1989) (Documentary)   \n8   2208. Lady Vanishes, The (1938) (Comedy|Mystery|Romance|Thriller)   \n9                  2183. Man Who Knew Too Much, The (1956) (Thriller)   \n\n                                                                                             ALS  \\\n0                                                    377. Speed (1994) (Action|Romance|Thriller)   \n1               260. Star Wars: Episode IV - A New Hope (1977) (Action|Adventure|Fantasy|Sci-Fi)   \n2                                                      1370. Die Hard 2 (1990) (Action|Thriller)   \n3                                                 2058. Negotiator, The (1998) (Action|Thriller)   \n4                                        2763. Thomas Crown Affair, The (1999) (Action|Thriller)   \n5                                        1198. Raiders of the Lost Ark (1981) (Action|Adventure)   \n6                                                   1608. Air Force One (1997) (Action|Thriller)   \n7  1210. Star Wars: Episode VI - Return of the Jedi (1983) (Action|Adventure|Romance|Sci-Fi|War)   \n8                                             1214. Alien (1979) (Action|Horror|Sci-Fi|Thriller)   \n9                                                     2278. Ronin (1998) (Action|Crime|Thriller)   \n\n                                                                                             BPR  \n0                                                       2762. Sixth Sense, The (1999) (Thriller)  \n1               260. Star Wars: Episode IV - A New Hope (1977) (Action|Adventure|Fantasy|Sci-Fi)  \n2                                                    2858. American Beauty (1999) (Comedy|Drama)  \n3                                                         296. Pulp Fiction (1994) (Crime|Drama)  \n4                                         593. Silence of the Lambs, The (1991) (Drama|Thriller)  \n5                             1197. Princess Bride, The (1987) (Action|Adventure|Comedy|Romance)  \n6                                        1198. Raiders of the Lost Ark (1981) (Action|Adventure)  \n7  1210. Star Wars: Episode VI - Return of the Jedi (1983) (Action|Adventure|Romance|Sci-Fi|War)  \n8                                             1214. Alien (1979) (Action|Horror|Sci-Fi|Thriller)  \n9                                                    1265. Groundhog Day (1993) (Comedy|Romance)  ",
      "text/html": "<div>\n<style scoped>\n    .dataframe tbody tr th:only-of-type {\n        vertical-align: middle;\n    }\n\n    .dataframe tbody tr th {\n        vertical-align: top;\n    }\n\n    .dataframe thead th {\n        text-align: right;\n    }\n</style>\n<table border=\"1\" class=\"dataframe\">\n  <thead>\n    <tr style=\"text-align: right;\">\n      <th></th>\n      <th>Library ALS</th>\n      <th>SVD</th>\n      <th>ALS</th>\n      <th>BPR</th>\n    </tr>\n  </thead>\n  <tbody>\n    <tr>\n      <th>0</th>\n      <td>377. Speed (1994) (Action|Romance|Thriller)</td>\n      <td>1198. Raiders of the Lost Ark (1981) (Action|Adventure)</td>\n      <td>377. Speed (1994) (Action|Romance|Thriller)</td>\n      <td>2762. Sixth Sense, The (1999) (Thriller)</td>\n    </tr>\n    <tr>\n      <th>1</th>\n      <td>1608. Air Force One (1997) (Action|Thriller)</td>\n      <td>3062. Longest Day, The (1962) (Action|Drama|War)</td>\n      <td>260. Star Wars: Episode IV - A New Hope (1977) (Action|Adventure|Fantasy|Sci-Fi)</td>\n      <td>260. Star Wars: Episode IV - A New Hope (1977) (Action|Adventure|Fantasy|Sci-Fi)</td>\n    </tr>\n    <tr>\n      <th>2</th>\n      <td>1370. Die Hard 2 (1990) (Action|Thriller)</td>\n      <td>2764. Thomas Crown Affair, The (1968) (Crime|Drama|Thriller)</td>\n      <td>1370. Die Hard 2 (1990) (Action|Thriller)</td>\n      <td>2858. American Beauty (1999) (Comedy|Drama)</td>\n    </tr>\n    <tr>\n      <th>3</th>\n      <td>858. Godfather, The (1972) (Action|Crime|Drama)</td>\n      <td>318. Shawshank Redemption, The (1994) (Drama)</td>\n      <td>2058. Negotiator, The (1998) (Action|Thriller)</td>\n      <td>296. Pulp Fiction (1994) (Crime|Drama)</td>\n    </tr>\n    <tr>\n      <th>4</th>\n      <td>1210. Star Wars: Episode VI - Return of the Jedi (1983) (Action|Adventure|Romance|Sci-Fi|War)</td>\n      <td>1287. Ben-Hur (1959) (Action|Adventure|Drama)</td>\n      <td>2763. Thomas Crown Affair, The (1999) (Action|Thriller)</td>\n      <td>593. Silence of the Lambs, The (1991) (Drama|Thriller)</td>\n    </tr>\n    <tr>\n      <th>5</th>\n      <td>780. Independence Day (ID4) (1996) (Action|Sci-Fi|War)</td>\n      <td>1939. Best Years of Our Lives, The (1946) (Drama|War)</td>\n      <td>1198. Raiders of the Lost Ark (1981) (Action|Adventure)</td>\n      <td>1197. Princess Bride, The (1987) (Action|Adventure|Comedy|Romance)</td>\n    </tr>\n    <tr>\n      <th>6</th>\n      <td>2763. Thomas Crown Affair, The (1999) (Action|Thriller)</td>\n      <td>1291. Indiana Jones and the Last Crusade (1989) (Action|Adventure)</td>\n      <td>1608. Air Force One (1997) (Action|Thriller)</td>\n      <td>1198. Raiders of the Lost Ark (1981) (Action|Adventure)</td>\n    </tr>\n    <tr>\n      <th>7</th>\n      <td>2058. Negotiator, The (1998) (Action|Thriller)</td>\n      <td>3338. For All Mankind (1989) (Documentary)</td>\n      <td>1210. Star Wars: Episode VI - Return of the Jedi (1983) (Action|Adventure|Romance|Sci-Fi|War)</td>\n      <td>1210. Star Wars: Episode VI - Return of the Jedi (1983) (Action|Adventure|Romance|Sci-Fi|War)</td>\n    </tr>\n    <tr>\n      <th>8</th>\n      <td>1408. Last of the Mohicans, The (1992) (Action|Romance|War)</td>\n      <td>2208. Lady Vanishes, The (1938) (Comedy|Mystery|Romance|Thriller)</td>\n      <td>1214. Alien (1979) (Action|Horror|Sci-Fi|Thriller)</td>\n      <td>1214. Alien (1979) (Action|Horror|Sci-Fi|Thriller)</td>\n    </tr>\n    <tr>\n      <th>9</th>\n      <td>260. Star Wars: Episode IV - A New Hope (1977) (Action|Adventure|Fantasy|Sci-Fi)</td>\n      <td>2183. Man Who Knew Too Much, The (1956) (Thriller)</td>\n      <td>2278. Ronin (1998) (Action|Crime|Thriller)</td>\n      <td>1265. Groundhog Day (1993) (Comedy|Romance)</td>\n    </tr>\n  </tbody>\n</table>\n</div>"
     },
     "execution_count": 48,
     "metadata": {},
     "output_type": "execute_result"
    }
   ],
   "source": [
    "construct_recommendations(7)\n"
   ]
  },
  {
   "cell_type": "code",
   "execution_count": 48,
   "id": "impressive-shelf",
   "metadata": {},
   "outputs": [],
   "source": []
  }
 ],
 "metadata": {
  "kernelspec": {
   "display_name": "Python 3",
   "language": "python",
   "name": "python3"
  },
  "language_info": {
   "codemirror_mode": {
    "name": "ipython",
    "version": 3
   },
   "file_extension": ".py",
   "mimetype": "text/x-python",
   "name": "python",
   "nbconvert_exporter": "python",
   "pygments_lexer": "ipython3",
   "version": "3.8.5"
  }
 },
 "nbformat": 4,
 "nbformat_minor": 5
}